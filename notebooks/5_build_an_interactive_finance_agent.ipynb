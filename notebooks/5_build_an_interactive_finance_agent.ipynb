{
 "cells": [
  {
   "cell_type": "markdown",
   "id": "321adc7f-f386-4dbf-bb9c-d5f789421f78",
   "metadata": {},
   "source": [
    "# Build an Interactice Finance Agent\n",
    "\n",
    "> IMPORTANT: This is the fifth and final notebook in the lab. The notebooks build on top of each other, so be sure to run the preceding notebooks, in order, before running this one. Start your journey building ADK Agents with MCP Toolbox [here](./1_setup_and_explore_databases.ipynb). \n",
    "\n",
    "## Overview \n",
    "\n",
    "Welcome to the final notebook of the lab! This is where you will bring everything you've built together to create a fully interactive, enterprise-ready Fraud Analyst Agent. This notebook guides you through deploying advanced MCP Toolbox tools, backed by Spanner Graph and AlloyDB Natural Language, and a user-friendly web interface that allows a fraud analyst to interact with the powerful AI agent you've developed. The key accomplishments include:\n",
    "\n",
    "- Building an Interactive UI: You will use the ADK UI library to create a simple yet powerful web interface for your agent. This UI provides a chat-like experience, making it easy for non-technical users to securely ask complex questions about the financial data in the Spanner Graph and AlloyDB databases.\n",
    "- Deploying a Secure Web Application: You will deploy the interactive UI as a new Cloud Run service. Crucially, this deployment will be secured with Identity-Aware Proxy (IAP), ensuring that only authorized users, such as verified fraud analysts, can access the application.\n",
    "- Integrating All Components: This final step demonstrates how the ADK Agent, MCP Toolbox, AlloyDB, Spanner, and the new UI all work together in a secure, private network to create a cohesive and powerful solution.\n",
    "- End-to-End Fraud Investigation: You will use the final application to perform a sample fraud investigation, asking the agent a series of questions to identify suspicious activity. This showcases the real-world value of having an AI assistant that can instantly query multiple, complex databases.\n",
    "\n",
    "### Terraform Resources\n",
    "\n",
    "- Google Cloud APIs: The necessary APIs for services like Vertex AI, Cloud Run, Spanner, AlloyDB, and Secret Manager were all enabled to allow these services to work together.\n",
    "- VPC Network and Connectivity: A custom Virtual Private Cloud (VPC) named demo-vpc was created, along with a Cloud Router and Cloud NAT gateway, to provide a secure private network for your resources.\n",
    "- Firewall Rules: Firewall rules, such as allow-iap-internal, were configured to control traffic flow within the VPC, including allowing necessary communication for IAP.\n",
    "- Private IP Allocation: A private IP range was reserved for service networking, enabling services like AlloyDB and Cloud SQL to communicate privately within your VPC.\n",
    "- AlloyDB Cluster and Instance: A high-performance AlloyDB cluster and instance were provisioned to store and manage your financial data.\n",
    "- Cloud SQL for PostgreSQL Instance: A Cloud SQL instance was created to serve as a persistent session backend for your ADK agent, ensuring that conversation history is maintained.\n",
    "- Spanner Instance and Database: A Spanner instance and database were set up with a predefined schema, including a property graph, to handle complex relational and graph-based queries.\n",
    "- Vertex AI Workbench Instance: The Vertex AI Workbench instance you are currently using was created and configured with the necessary permissions and startup scripts to access the project's resources.\n",
    "- IAM Service Accounts: The toolbox-service-account service account was created with the specific IAM roles required to access databases and secrets securely.\n",
    "- Cloud Storage Bucket: A Cloud Storage bucket was created to store project files, including the data for the Spanner database import.\n",
    "- Private DNS Zone: A private DNS zone was configured to enable PSC (Private Service Connect) for secure communication with the Cloud SQL instance.\n",
    "\n",
    "### Google Cloud Services Used\n",
    "\n",
    "This notebook utilizes the following Google Cloud services:\n",
    "\n",
    "- Agent Development Kit (ADK): The core framework for building and deploying your interactive financial agent.\n",
    "- MCP Toolbox for Databases: The open-source server that provides the tools for your agent to interact with the databases.\n",
    "- Cloud Run: The serverless platform used to deploy and host both the ADK agent and the MCP Toolbox.\n",
    "- AlloyDB for PostgreSQL: A fully managed, PostgreSQL-compatible database used to store financial transaction data.\n",
    "- Spanner: A globally distributed, strongly consistent database used for both relational and graph-based financial data.\n",
    "- Identity-Aware Proxy (IAP): A service that provides secure, identity-based access to your deployed web applications, including the ADK agent's UI.\n",
    "- Secret Manager: A secure service for storing and managing sensitive data like API keys, passwords, and configuration files.\n",
    "- Cloud SQL for PostgreSQL: A managed PostgreSQL database service used for the ADK agent's session management.\n",
    "- IAM (Identity and Access Management): Used to manage permissions for service accounts and users, ensuring a least-privilege security model.\n",
    "- Vertex AI Workbench: The Jupyter notebook-based environment used to develop and execute the code in this lab.\n",
    "- Cloud Storage: Used to store the data files for the initial database setup.\n",
    "- Cloud Logging and Cloud Trace: These services are used for monitoring, debugging, and observing the behavior of your deployed services.\n",
    "\n",
    "### Logical Flow of the Notebook\n",
    "\n",
    "The notebook will guide you through the following logical steps:\n",
    "- Basic Setup: This initial section involves defining the necessary variables for your project, connecting to your Google Cloud environment, and installing the required Python libraries.\n",
    "- Configure a New Toolset: You will create an updated tools.yaml file that defines a more powerful and flexible toolset for your agent. This toolset will include tools for natural language queries, graph queries, account status checks, and more.\n",
    "- Deploy the Interactive Agent: You will deploy the ADK agent to Cloud Run, this time configuring it for public access secured by IAP. This will enable you to interact with the agent through its web UI.\n",
    "- Grant IAP Access: You will grant the necessary IAM permissions to service accounts and your user account to allow access to the IAP-secured web UI.\n",
    "- Test the Agent: Using the ADK's built-in web UI, you will engage in a series of interactive scenarios with your agent, asking it to perform tasks related to fraud investigation and financial analysis."
   ]
  },
  {
   "cell_type": "markdown",
   "id": "0927ae02-125e-4d3e-a885-1e437e6bddb6",
   "metadata": {},
   "source": [
    "## Basic Setup"
   ]
  },
  {
   "cell_type": "markdown",
   "id": "842a3ca3-4f62-4190-bbb6-10e7da9b13c8",
   "metadata": {},
   "source": [
    "### Define Notebook Variables\n",
    "\n",
    "Update the `project_id` and `region` variables below to match your environment. You can use defaults for the rest of the project variables. \n",
    "\n",
    "You will be prompted for the Cloud SQL password you chose then you provisioned the environment with Terraform."
   ]
  },
  {
   "cell_type": "code",
   "execution_count": null,
   "id": "e4fa431b-2efd-4db1-89e1-b97b4fc722df",
   "metadata": {
    "tags": []
   },
   "outputs": [],
   "source": [
    "# Project variables\n",
    "project_id = \"your-project\"\n",
    "region = \"your-region\"\n",
    "vpc = \"demo-vpc\"\n",
    "gcs_bucket_name = f\"project-files-{project_id}\"\n",
    "\n",
    "# AlloyDB variables\n",
    "alloydb_cluster = \"my-alloydb-cluster\"\n",
    "alloydb_instance = \"my-alloydb-instance\"\n",
    "alloydb_database = \"finance\"\n",
    "\n",
    "# Spanner variables\n",
    "spanner_instance = \"my-spanner-instance\"\n",
    "spanner_database = \"finance-graph\"\n",
    "\n",
    "# Cloud SQL Variables\n",
    "cloud_sql_instance = \"my-postgres-instance\"\n",
    "cloud_sql_database = \"postgres\"\n",
    "cloud_sql_user = \"postgres\"\n",
    "cloud_sql_password = input(\"Please enter the password for the Cloud SQL 'postgres' database user: \")"
   ]
  },
  {
   "cell_type": "code",
   "execution_count": null,
   "id": "01db8a8b-cae4-4978-bb9a-e2e5a8465696",
   "metadata": {
    "tags": []
   },
   "outputs": [],
   "source": [
    "# Set env variable to suppress annoying system warnings when running shell commands\n",
    "%env GRPC_ENABLE_FORK_SUPPORT=1"
   ]
  },
  {
   "cell_type": "markdown",
   "id": "62bc39dc-f6ee-455e-853a-643c12918c2f",
   "metadata": {},
   "source": [
    "### Connect to your Google Cloud Project"
   ]
  },
  {
   "cell_type": "code",
   "execution_count": null,
   "id": "5d972baa-ffa7-47c7-a965-fdaa114262b5",
   "metadata": {
    "tags": []
   },
   "outputs": [],
   "source": [
    "# Configure gcloud.\n",
    "!gcloud config set project {project_id}"
   ]
  },
  {
   "cell_type": "markdown",
   "id": "38a124be-854e-4465-bab2-44ea855d9256",
   "metadata": {},
   "source": [
    "### Configure Logging"
   ]
  },
  {
   "cell_type": "code",
   "execution_count": null,
   "id": "66056e25-5e3a-47e3-a842-8fe6fadd9a33",
   "metadata": {
    "tags": []
   },
   "outputs": [],
   "source": [
    "import logging\n",
    "import sys\n",
    "\n",
    "# Configure the root logger to output messages with INFO level or above\n",
    "logging.basicConfig(level=logging.INFO, stream=sys.stdout, format='%(asctime)s[%(levelname)5s][%(name)14s] - %(message)s',  datefmt='%H:%M:%S', force=True)"
   ]
  },
  {
   "cell_type": "markdown",
   "id": "b72eb606-f634-424f-be79-c1b75b1b1e14",
   "metadata": {},
   "source": [
    "### Install Dependencies"
   ]
  },
  {
   "cell_type": "code",
   "execution_count": null,
   "id": "f7c2e387-9dfc-49c2-8a32-2c54d7eebcc2",
   "metadata": {
    "tags": []
   },
   "outputs": [],
   "source": [
    "! pip install --quiet toolbox-core==0.2.1 \\\n",
    "                      google-adk==1.5.0 \\\n",
    "                      google-genai==1.23.0 \\\n",
    "                      asyncpg==0.30.0 \\\n",
    "                      \"cloud-sql-python-connector[asyncpg]\"==1.18.2 \\\n",
    "                      google-cloud-iam==2.19.0 \\\n",
    "                      google-cloud-iap==1.17.1 \\\n",
    "                      google-cloud-resource-manager==1.14.2\n"
   ]
  },
  {
   "cell_type": "markdown",
   "id": "c945e838-245c-4d19-aafc-0b51282e4fe3",
   "metadata": {
    "tags": []
   },
   "source": [
    "### Define Helper Functions"
   ]
  },
  {
   "cell_type": "markdown",
   "id": "c7c18e2a-3a89-4564-80c0-81a027933586",
   "metadata": {},
   "source": [
    "#### get_auth_token()"
   ]
  },
  {
   "cell_type": "code",
   "execution_count": null,
   "id": "0e18354f-8e30-4515-8aec-533c2a0c9719",
   "metadata": {
    "tags": []
   },
   "outputs": [],
   "source": [
    "import urllib\n",
    "\n",
    "import google.auth.transport.requests\n",
    "import google.oauth2.id_token\n",
    "\n",
    "\n",
    "def get_auth_token(audience):\n",
    "    # For IAM auth, Cloud Run uses your service's hostname as the `audience` value\n",
    "    # i.e. audience = 'https://my-cloud-run-service.run.app/'\n",
    "    \n",
    "    # For IAP auth, Cloud Run uses the service account's oauth client_id\n",
    "    # i.e. audience = '123456789098765432123'\n",
    "    \n",
    "    auth_req = google.auth.transport.requests.Request()\n",
    "    id_token = google.oauth2.id_token.fetch_id_token(auth_req, f\"{audience}\")\n",
    "\n",
    "    return id_token"
   ]
  },
  {
   "cell_type": "markdown",
   "id": "5941ff5a-c2ee-4204-a5ef-8d519ac09b3c",
   "metadata": {},
   "source": [
    "#### get_project_number()"
   ]
  },
  {
   "cell_type": "code",
   "execution_count": null,
   "id": "6b59c7a0-dccc-453d-bffa-5369d06189f8",
   "metadata": {
    "tags": []
   },
   "outputs": [],
   "source": [
    "from google.auth.transport.requests import Request\n",
    "from google.cloud import resourcemanager_v3\n",
    "\n",
    "\n",
    "def get_project_number(project_id: str) -> str:\n",
    "    # Create a client for the Resource Manager API.\n",
    "    client = resourcemanager_v3.ProjectsClient()\n",
    "\n",
    "    # Construct the project name resource string.\n",
    "    project_name = f\"projects/{project_id}\"\n",
    "\n",
    "    # Create the request to get the project details.\n",
    "    request = resourcemanager_v3.GetProjectRequest(name=project_name)\n",
    "\n",
    "    # Make the API call to retrieve the project.\n",
    "    project = client.get_project(request=request)\n",
    "\n",
    "    # The project number is a string, not an integer.\n",
    "    return project.name.split('/')[1]\n"
   ]
  },
  {
   "cell_type": "markdown",
   "id": "673f95fb-1ac4-48b6-85a8-894195f37e01",
   "metadata": {},
   "source": [
    "# Configure Cloud Run Services with Identity-Aware Proxy (IAP)\n",
    "\n",
    "We previously restricted non-private ingress traffic on our ADK Agent hosted on Cloud Run. This is a great security practice for autonomous agents that are triggered by an event and take automated actions on your behalf. For interactive agents, however, it is useful to provide a friendly UI for Agent interactions, and the ADK framework provides a built-in UI specifically for this purpose. To make this UI available without sacrificing our security posture, we will replace IAM authentication with IAP to prevent unauthorized access to the Agent, while allowing authorized individuals to safely connect over public IP. We will also configure IAP on the toolbox service, and we'll use the toolbox-service-account oauth client ID to authenticate calls between the ADK agent and MCP Toolbox.\n",
    "\n",
    "Reference: \n",
    "- https://cloud.google.com/iap/docs/enabling-cloud-run"
   ]
  },
  {
   "cell_type": "markdown",
   "id": "cd3afe27-5b6a-4c5d-9517-907d0f514543",
   "metadata": {},
   "source": [
    "## Update the MCP Toolbox Toolset\n",
    "\n",
    "The goal of our interactive agent is to be as flexible as possible, so we will use an alloydb_nl tool to flexibly and securely interact with our AlloyDB database. We will also build tools that will allow us to ask questions about account transfers that might be related to fraudulent transactions and to block or unblock accounts. "
   ]
  },
  {
   "cell_type": "markdown",
   "id": "56d47f7f-bd73-4fec-a398-35d2252d7474",
   "metadata": {},
   "source": [
    "### Update the `tools.yaml` File\n",
    "\n",
    "This YAML configuration defines the tools our agent will use. Notice the use of both 'spanner-sql' for precise queries and 'alloydb-ai-nl' for flexible, natural language queries. Read through the definitions of each tool to understand the purpose of each query."
   ]
  },
  {
   "cell_type": "code",
   "execution_count": null,
   "id": "33cdf40b-a830-4ef8-ac7e-76118828f936",
   "metadata": {
    "tags": []
   },
   "outputs": [],
   "source": [
    "# Reference: https://googleapis.github.io/genai-toolbox/resources/sources/spanner/\n",
    "#            https://googleapis.github.io/genai-toolbox/resources/tools/\n",
    "#            https://googleapis.github.io/genai-toolbox/resources/tools/spanner-sql/\n",
    "#            https://googleapis.github.io/genai-toolbox/resources/sources/alloydb-pg/\n",
    "#            https://googleapis.github.io/genai-toolbox/resources/tools/postgres-sql/\n",
    "\n",
    "import os\n",
    "import json\n",
    "\n",
    "nl_config = \"finance_agent_config\"\n",
    "\n",
    "tools_config = {\n",
    "  \"sources\": {\n",
    "    \"spanner-finance-graph-source\": {\n",
    "      \"kind\": \"spanner\",\n",
    "      \"project\": f\"{project_id}\",\n",
    "      \"instance\": f\"{spanner_instance}\",\n",
    "      \"database\": f\"{spanner_database}\",\n",
    "      \"dialect\": \"googlesql\"\n",
    "    },\n",
    "    \"alloydb-finance-source\": {\n",
    "      \"kind\": \"alloydb-postgres\",\n",
    "      \"project\": f\"{project_id}\",\n",
    "      \"region\": f\"{region}\",\n",
    "      \"cluster\": f\"{alloydb_cluster}\",\n",
    "      \"instance\": f\"{alloydb_instance}\",\n",
    "      \"database\": f\"{alloydb_database}\",\n",
    "      \"user\": \"toolbox_user\",\n",
    "      \"password\": \"${ALLOYDB_PASSWORD}\",\n",
    "      \"ipType\": \"private\"\n",
    "    }\n",
    "  },\n",
    "  \"tools\": {\n",
    "    \"get_account_status\": {\n",
    "      \"kind\": \"spanner-sql\",\n",
    "      \"source\": \"spanner-finance-graph-source\",\n",
    "      \"description\": \"Use this tool to get the status of an account based on its ID, including blocked status, account type, and account owner name.\",\n",
    "      \"statement\": \"\"\"\n",
    "        SELECT * FROM Account a\n",
    "        JOIN PersonOwnAccount poa ON a.id = poa.account_id\n",
    "        JOIN Person p on p.id = poa.id\n",
    "        WHERE a.id = @account_id;\n",
    "        \"\"\",\n",
    "      \"parameters\": [\n",
    "        {\n",
    "          \"name\": \"account_id\",\n",
    "          \"type\": \"integer\",\n",
    "          \"description\": \"Unique account id number\"\n",
    "        }\n",
    "      ]\n",
    "    },\n",
    "    \"block_account\": {\n",
    "      \"kind\": \"spanner-sql\",\n",
    "      \"source\": \"spanner-finance-graph-source\",\n",
    "      \"description\": \"Use this tool to block an account based on its ID. The query will block the account and then return the updated blocked status and type of the account.\",\n",
    "      \"statement\": \"\"\"\n",
    "        UPDATE Account SET is_blocked = true WHERE id = @account_id\n",
    "        THEN RETURN id, is_blocked, type;\n",
    "        \"\"\",\n",
    "      \"parameters\": [\n",
    "        {\n",
    "          \"name\": \"account_id\",\n",
    "          \"type\": \"integer\",\n",
    "          \"description\": \"Unique account id number\"\n",
    "        }\n",
    "      ]\n",
    "    },\n",
    "    \"unblock_account\": {\n",
    "      \"kind\": \"spanner-sql\",\n",
    "      \"source\": \"spanner-finance-graph-source\",\n",
    "      \"description\": \"Use this tool to unblock an account based on its ID. The query will unblock the account and then return the updated blocked status and type of the account.\",\n",
    "      \"statement\": \"\"\"\n",
    "        UPDATE Account SET is_blocked = false WHERE id = @account_id\n",
    "        THEN RETURN id, is_blocked, type;\n",
    "        \"\"\",\n",
    "      \"parameters\": [\n",
    "        {\n",
    "          \"name\": \"account_id\",\n",
    "          \"type\": \"integer\",\n",
    "          \"description\": \"Unique account id number\"\n",
    "        }\n",
    "      ]\n",
    "    },\n",
    "    \"get_accounts_by_customer_id\": {\n",
    "      \"kind\": \"spanner-sql\",\n",
    "      \"source\": \"spanner-finance-graph-source\",\n",
    "      \"description\": \"Use this tool to get all of the accounts owned by a particular customer based on their id\",\n",
    "      \"statement\": \"\"\"\n",
    "        SELECT * FROM Account a\n",
    "        JOIN PersonOwnAccount poa ON a.id = poa.account_id\n",
    "        JOIN Person p on p.id = poa.id\n",
    "        WHERE p.id = @customer_id;\n",
    "        \"\"\",\n",
    "      \"parameters\": [\n",
    "        {\n",
    "          \"name\": \"customer_id\",\n",
    "          \"type\": \"integer\",\n",
    "          \"description\": \"Unique customer id number\"\n",
    "        }\n",
    "      ]\n",
    "    },\n",
    "    \"get_loan_repayments\": {\n",
    "      \"kind\": \"spanner-sql\",\n",
    "      \"source\": \"spanner-finance-graph-source\",\n",
    "      \"description\": \"Use this tool to get information about loans paid by customers from accounts they own. The query finds the accounts owned by the customer, and then discover the loans repaid by their accounts\",\n",
    "      \"statement\": \"\"\"\n",
    "        GRAPH FinGraph\n",
    "        MATCH\n",
    "          (person:Person {id: @customer_id})-[own:Owns]->\n",
    "          (account:Account)-[repay:Repays]->(loan:Loan)\n",
    "        RETURN\n",
    "          person.id AS customer_id,\n",
    "          person.name AS customer_name,\n",
    "          account.id AS account_id,\n",
    "          repay.create_time AS repay_time,\n",
    "          repay.amount AS loan_repay_amount,\n",
    "          loan.id AS loan_id,\n",
    "          loan.loan_amount AS loan_amount,\n",
    "          SAFE_TO_JSON(person) AS person_json, \n",
    "          SAFE_TO_JSON(own) AS own_json, \n",
    "          SAFE_TO_JSON(account) AS account_json, \n",
    "          SAFE_TO_JSON(repay) AS repay_json, \n",
    "          SAFE_TO_JSON(loan) AS loan_json\n",
    "        ORDER BY repay.create_time DESC;\n",
    "        \"\"\",\n",
    "      \"parameters\": [\n",
    "        {\n",
    "          \"name\": \"customer_id\",\n",
    "          \"type\": \"integer\",\n",
    "          \"description\": \"Unique customer id number\"\n",
    "        }\n",
    "      ]\n",
    "    },\n",
    "    \"get_indirect_transfers\": {\n",
    "      \"kind\": \"spanner-sql\",\n",
    "      \"source\": \"spanner-finance-graph-source\",\n",
    "      \"description\": \"Use this tool to check if money was moved between multiple accounts on its way from a given source account to a given destination account. The query matches all account money transfers starting from a source account id within 3 to 6 hops, to reach a destination account with another id. The {3,6} syntax is used to represent a quantified 3 to 6 hop path traversal between src_accnt and dst_accnt.\",\n",
    "      \"statement\": \"\"\"\n",
    "        GRAPH FinGraph\n",
    "        MATCH\n",
    "          (src_accnt:Account {id:@source_account_id})-[transfers:Transfers]->{3,6}\n",
    "          (dst_accnt:Account {id:@destination_account_id})\n",
    "        RETURN\n",
    "          ARRAY_LENGTH(transfers) AS num_hops,\n",
    "          src_accnt.type as source_account_type,\n",
    "          src_accnt.is_blocked AS source_is_blocked,\n",
    "          src_accnt.create_time AS source_create_time,\n",
    "          dst_accnt.type as destination_account_type,\n",
    "          dst_accnt.is_blocked AS destination_is_blocked,\n",
    "          dst_accnt.create_time AS destinatoin_create_time,\n",
    "          TO_JSON(transfers) AS transfer_edges;\n",
    "        \"\"\",\n",
    "      \"parameters\": [\n",
    "        {\n",
    "          \"name\": \"source_account_id\",\n",
    "          \"type\": \"integer\",\n",
    "          \"description\": \"Unique account id number for source account\"\n",
    "        },\n",
    "        {\n",
    "          \"name\": \"destination_account_id\",\n",
    "          \"type\": \"integer\",\n",
    "          \"description\": \"Unique account id number for destination account\"\n",
    "        }\n",
    "      ]\n",
    "    },\n",
    "    \"get_account_inflows_outflows\": {\n",
    "      \"kind\": \"spanner-sql\",\n",
    "      \"source\": \"spanner-finance-graph-source\",\n",
    "      \"description\": \"Use this tool to understand the money flow of accounts owned by a specific customer id to look for suspicious large inflows or outflows as part of compliance analysis requirements.\",\n",
    "      \"statement\": \"\"\"\n",
    "        GRAPH FinGraph\n",
    "        MATCH (person:Person {id: @customer_id})-[:Owns]->(accnt:Account)\n",
    "        RETURN person, accnt\n",
    "\n",
    "        NEXT\n",
    "\n",
    "        MATCH (accnt)<-[inflow:Transfers]-(:Account)\n",
    "        WHERE inflow.amount > 100\n",
    "          AND inflow.create_time > TIMESTAMP(\"2020-1-1\")\n",
    "        RETURN person, accnt, SUM(inflow.amount) AS total_inflow_amounts\n",
    "        GROUP BY person, accnt\n",
    "\n",
    "        NEXT\n",
    "\n",
    "        MATCH (accnt) -[outflow:Transfers]->(:Account)\n",
    "        WHERE outflow.amount > 100\n",
    "          AND outflow.create_time > TIMESTAMP(\"2020-1-1\")\n",
    "        RETURN person, accnt, total_inflow_amounts, SUM(outflow.amount) AS total_outflow_amounts\n",
    "        GROUP BY person, accnt, total_inflow_amounts\n",
    "\n",
    "        NEXT\n",
    "\n",
    "        LET money_flow_ratio = total_inflow_amounts / total_outflow_amounts\n",
    "        RETURN \n",
    "          person.name AS customer_name,\n",
    "          person.id AS customer_id,\n",
    "          accnt.id AS account_id, \n",
    "          accnt.type AS account_type,\n",
    "          accnt.is_blocked,\n",
    "          total_inflow_amounts, \n",
    "          total_outflow_amounts,\n",
    "          money_flow_ratio\n",
    "        ORDER BY money_flow_ratio DESC;\n",
    "        \"\"\",\n",
    "      \"parameters\": [\n",
    "        {\n",
    "          \"name\": \"customer_id\",\n",
    "          \"type\": \"integer\",\n",
    "          \"description\": \"Unique customer id number\"\n",
    "        }\n",
    "      ]\n",
    "    },\n",
    "    \"get_destination_account_audit_events\": {\n",
    "      \"kind\": \"spanner-sql\",\n",
    "      \"source\": \"spanner-finance-graph-source\",\n",
    "      \"description\": \"Use this tool to find audit events of reached destination accounts that have received wire transfers from a suspicious account.\",\n",
    "      \"statement\": \"\"\"\n",
    "        SELECT\n",
    "          audit.id as accnt_id,\n",
    "          audit.audit_timestamp as audit_ts,\n",
    "          audit.audit_details as details,\n",
    "          accnt_transfers.*\n",
    "        FROM\n",
    "          AccountAudits audit,\n",
    "          GRAPH_TABLE(\n",
    "            FinGraph\n",
    "            MATCH (suspicious_account:Account {id:@suspicious_account_id})-[:Transfers]->{1,2}(dest_accnt)\n",
    "            RETURN DISTINCT dest_accnt.id AS reached_account_id, \n",
    "              dest_accnt.type AS reached_account_type, \n",
    "              dest_accnt.is_blocked AS reached_account_is_blocked, \n",
    "              dest_accnt.create_time AS reached_account_create_time,\n",
    "              suspicious_account.type AS suspicious_account_type, \n",
    "              suspicious_account.is_blocked AS suspicious_account_is_blocked, \n",
    "              suspicious_account.create_time AS suspicious_account_create_time\n",
    "          ) AS accnt_transfers\n",
    "        WHERE accnt_transfers.reached_account_id = audit.id\n",
    "        ORDER BY audit_ts DESC\n",
    "        \"\"\",\n",
    "      \"parameters\": [\n",
    "        {\n",
    "          \"name\": \"suspicious_account_id\",\n",
    "          \"type\": \"integer\",\n",
    "          \"description\": \"Unique account id number for an account with suspicious activity\"\n",
    "        }\n",
    "      ]\n",
    "    },\n",
    "    \"get_finance_database_context\": {\n",
    "      \"kind\": \"alloydb-ai-nl\",\n",
    "      \"source\": \"alloydb-finance-source\",\n",
    "      \"description\": \"Use this tool to look up information about financial transactions, credit cards, customers, mcc codes, and historical fraud labels.\",\n",
    "      \"nlConfig\": f\"{nl_config}\"\n",
    "    }\n",
    "  },\n",
    "  \"toolsets\": {\n",
    "    \"interactive-tools\": [\n",
    "      \"get_loan_repayments\",\n",
    "      \"get_indirect_transfers\",\n",
    "      \"get_account_inflows_outflows\",\n",
    "      \"get_destination_account_audit_events\",\n",
    "      \"get_finance_database_context\",\n",
    "      \"get_account_status\",\n",
    "      \"get_accounts_by_customer_id\",\n",
    "      \"block_account\",\n",
    "      \"unblock_account\"\n",
    "    ]\n",
    "  }\n",
    "}\n",
    "\n",
    "with open(\"tools.yaml\", \"w\") as file:\n",
    "    file.write(json.dumps(tools_config))\n"
   ]
  },
  {
   "cell_type": "markdown",
   "id": "49f03345-1c8a-4fbf-802a-4f802ceb8625",
   "metadata": {},
   "source": [
    "### Write Updated `tools.yaml` to Secret Manager\n",
    "\n",
    "We store the tools.yaml file in Secret Manager to avoid exposing it in our code or container. This is a critical security best practice for managing sensitive configurations."
   ]
  },
  {
   "cell_type": "code",
   "execution_count": null,
   "id": "d6f042ee-03ce-416f-80d6-092bcc30ad8e",
   "metadata": {
    "tags": []
   },
   "outputs": [],
   "source": [
    "# Create the secret\n",
    "! gcloud secrets versions add tools --data-file=tools.yaml"
   ]
  },
  {
   "cell_type": "code",
   "execution_count": null,
   "id": "57700beb-400c-4e29-9f8c-09bd78e99963",
   "metadata": {
    "tags": []
   },
   "outputs": [],
   "source": [
    "# Clean up the local file\n",
    "import os\n",
    "os.remove('tools.yaml')"
   ]
  },
  {
   "cell_type": "markdown",
   "id": "ff67ead6-1d61-4349-9730-bc52c5c60ca8",
   "metadata": {},
   "source": [
    "### Redeploy Toolbox with IAP\n",
    "\n",
    "Here, we redeploy the MCP Toolbox service with IAP enabled. \n",
    "\n",
    "Key security configurations:\n",
    "- `--network={vpc}` / `--subnet={vpc}`: Deploys the service within our private VPC.\n",
    "- `--service-account=toolbox-service-account`: Uses a dedicated service account with least-privilege permissions.\n",
    "- `--no-allow-unauthenticated`: Enforces IAM authentication for all invocations.\n",
    "- `--set-secrets`: Securely mounts our tools configuration and database password from Secret Manager.\n",
    "- `--ingress=internal`: Restricts network traffic to internal sources only.\n",
    "- `--telemetry-gcp`: Enables built-in OpenTelemetry for logging, tracing, and metrics.\n",
    "- `--iap`:  Secures the service, allowing access only to authenticated and authorized users.\n"
   ]
  },
  {
   "cell_type": "code",
   "execution_count": null,
   "id": "429a824e-3c79-4e49-b218-4d9e250dab29",
   "metadata": {
    "tags": []
   },
   "outputs": [],
   "source": [
    "# Define Toolbox Container Image\n",
    "image = '{region}-docker.pkg.dev/database-toolbox/toolbox/toolbox:latest'\n",
    "\n",
    "# Deploy to Cloud Run\n",
    "! gcloud beta run deploy toolbox --no-user-output-enabled \\\n",
    "    --image={image} \\\n",
    "    --network={vpc} \\\n",
    "    --subnet={vpc} \\\n",
    "    --region={region} \\\n",
    "    --no-allow-unauthenticated \\\n",
    "    --set-secrets=\"/app/tools.yaml=tools:latest,ALLOYDB_PASSWORD=alloydb-password:latest\" \\\n",
    "    --args=\"--tools-file=/app/tools.yaml\",\"--address=0.0.0.0\",\"--port=8080\",\"--telemetry-gcp\" \\\n",
    "    --vpc-egress=all-traffic \\\n",
    "    --ingress=internal \\\n",
    "    --min=1 \\\n",
    "    --service-account=toolbox-service-account \\\n",
    "    --iap\n"
   ]
  },
  {
   "cell_type": "markdown",
   "id": "716333cf-b6d5-48be-98b1-018559390e6c",
   "metadata": {},
   "source": [
    "## Grant Necessary Service Account Permissions for the Toolbox Service\n",
    "\n",
    "Now that we are using both IAP and IAM to protect the toolbox service, we need to grant permissions in 3 places for this to work:\n",
    "1. IAM `roles/run.invoker` permissions on the toolbox service for the **client service account** (e.g. the notebook service account).\n",
    "2. IAP `roles/iap.httpsResourceAccessor`role policy permissions on the toolbox service for the **client service account** (e.g. the notebook service account).\n",
    "3. IAP programmatic access on the project for the oauth client ID of the **service-side service account** (e.g. `toolbox-service-account`). "
   ]
  },
  {
   "cell_type": "markdown",
   "id": "efa95f68-09e4-42d2-9702-2cdf3eeaa961",
   "metadata": {},
   "source": [
    "### Grant `roles/run.invoker` to the Notebook Service Account\n",
    "\n",
    "We still enabled IAM authentication on the toolbox service as a second layer of security, so we will grant invoke access to notebook service account first so that we can test locally. "
   ]
  },
  {
   "cell_type": "code",
   "execution_count": null,
   "id": "de385f2e-a373-42c0-8962-51d185865e66",
   "metadata": {
    "tags": []
   },
   "outputs": [],
   "source": [
    "# Get the notebook service account from the local metadata service\n",
    "notebook_service_account = !curl -s \"http://metadata.google.internal/computeMetadata/v1/instance/service-accounts/default/email\" -H \"Metadata-Flavor: Google\"\n",
    "notebook_service_account = notebook_service_account[0]\n",
    "print(f\"Notebook service account: {notebook_service_account}\")\n",
    "\n",
    "# Grant IAM invoke permissions on toolbox to the notebook service account\n",
    "!gcloud run services add-iam-policy-binding toolbox --region={region} \\\n",
    "    --member=serviceAccount:{notebook_service_account} \\\n",
    "    --role=\"roles/run.invoker\""
   ]
  },
  {
   "cell_type": "markdown",
   "id": "62f964e7-b904-4a19-86c0-31ea780b06da",
   "metadata": {},
   "source": [
    "### Grant `roles/iap.httpsResourceAccessor` to the Notebook Service Account"
   ]
  },
  {
   "cell_type": "code",
   "execution_count": null,
   "id": "6d5e266c-e896-45cf-ac19-390e5120e26b",
   "metadata": {
    "tags": []
   },
   "outputs": [],
   "source": [
    "# Grant httpsResourceAccessor IAP access on toolbox to the notebook service account\n",
    "!gcloud beta iap web add-iam-policy-binding \\\n",
    "    --member=serviceAccount:{notebook_service_account} \\\n",
    "    --role=roles/iap.httpsResourceAccessor \\\n",
    "    --region={region} \\\n",
    "    --resource-type=cloud-run \\\n",
    "    --service=toolbox \\\n",
    "    --condition=None"
   ]
  },
  {
   "cell_type": "markdown",
   "id": "bfb1e7bf-7737-4ac8-a019-eacebb05cf3e",
   "metadata": {},
   "source": [
    "### Grant Programmatic IAP Access to `toolbox-service-account`\n",
    "\n",
    "This step is CRITICAL for enabling service-to-service authentication. Without it, you will receive errors like the ones below when trying to execute MCP Toolbox Tools locally from this notebook or through the ADK agent that we will deploy later in this notebook: \n",
    "- `RuntimeError: API request failed with status 401 (Unauthorized). Server response: Invalid IAP credentials: Invalid bearer token. Invalid JWT audience.`\n",
    "- `Attempt to decode JSON with unexpected mimetype: text/html`\n",
    "\n",
    "References:\n",
    "- https://cloud.google.com/iap/docs/authentication-howto#authenticate_with_an_oidc_token\n",
    "- https://cloud.google.com/iap/docs/sharing-oauth-clients#gcloud"
   ]
  },
  {
   "cell_type": "code",
   "execution_count": null,
   "id": "f8fdcd22-c6ed-4f86-8b74-2d32af94c34c",
   "metadata": {
    "tags": []
   },
   "outputs": [],
   "source": [
    "# Get the toolbox-service-account oauth client id\n",
    "toolbox_oauth_id = !gcloud iam service-accounts describe toolbox-service-account@{project_id}.iam.gserviceaccount.com --format='value(\"oauth2ClientId\")'\n",
    "toolbox_oauth_id = toolbox_oauth_id[0]\n",
    "print(f\"OAuth Client ID for toolbox-service-account: {toolbox_oauth_id}\")\n",
    "\n",
    "# Define programmatic clients for IAP\n",
    "iap_programmatic_access_settings = f\"\"\"  access_settings:\n",
    "    oauth_settings:\n",
    "      programmatic_clients: '{toolbox_oauth_id}'\n",
    "\"\"\"\n",
    "\n",
    "# Write config to temp file\n",
    "with open(\"iapConfig.yaml\", \"w\") as file:\n",
    "    file.write(iap_programmatic_access_settings)\n",
    "    \n",
    "# Apply the IAP programmatic client settings\n",
    "!gcloud iap settings set iapConfig.yaml --project={project_id} --resource-type=iap_web\n",
    "\n",
    "# Clean up the temp file\n",
    "os.remove(\"iapConfig.yaml\")"
   ]
  },
  {
   "cell_type": "markdown",
   "id": "7adf4f8d-c2a2-4ea1-8ae4-b2d2712e840f",
   "metadata": {
    "tags": []
   },
   "source": [
    "## Test the MCP Toolbox Tools Locally\n",
    "\n",
    "Since we now have a new authentication scheme using IAM, as well as a more complex set of tools that require various parameters, we'll define a list of tools and the parameters we should call for each one, then we'll iterate through each one using the `load_tool()` function to get and test specific tools. \n",
    "\n",
    "> IMPORTANT: You must use the toolbox-service-account oauth client ID as the audience for your auth_token. If you try to use the toolbox_url for the auth_token audience like we did in previous notebooks, you will get an error like the following: `RuntimeError: API request failed with status 401 (Unauthorized). Server response: Invalid IAP credentials: Invalid bearer token. Audience doesn't match the allowlisted oauth clients for this application.`\n",
    "\n",
    "> NOTE: If you get aa 403 error, wait a minute or two and try again. It takes time for the permissions you added in the cells above to propagate. Example error: `API request failed with status 403 (Forbidden). Server response: Access denied.`"
   ]
  },
  {
   "cell_type": "code",
   "execution_count": null,
   "id": "d0a7b514-0957-4f9a-b2f8-efc252a928c0",
   "metadata": {
    "tags": []
   },
   "outputs": [],
   "source": [
    "import json\n",
    "import toolbox_core\n",
    "from toolbox_core import ToolboxClient, auth_methods\n",
    "\n",
    "# Get the toolbox-service-account oauth client id\n",
    "toolbox_oauth_id = !gcloud iam service-accounts describe toolbox-service-account@{project_id}.iam.gserviceaccount.com --format='value(\"oauth2ClientId\")'\n",
    "toolbox_oauth_id = toolbox_oauth_id[0]\n",
    "print(f\"OAuth Client ID for toolbox-service-account: {toolbox_oauth_id}\")\n",
    "\n",
    "# Get toolbox endpoint\n",
    "toolbox_url = ! gcloud run services describe toolbox --region {region} --format 'value(metadata.annotations.\"run.googleapis.com/urls\")'\n",
    "toolbox_url = json.loads(toolbox_url[0])[0]\n",
    "print(f\"Toolbox Cloud Run endpoint: {toolbox_url}\")\n",
    "\n",
    "# Refresh auth_token\n",
    "print(\"Using toolbox-service-account for auth_token audience to support IAP authentication.\")\n",
    "auth_token = get_auth_token(toolbox_oauth_id)\n",
    "\n",
    "# Define tools to test and arguments\n",
    "tools_to_test = [\n",
    "    {\n",
    "        \"tool\": \"get_loan_repayments\",\n",
    "        \"params\": {\n",
    "            \"customer_id\": 263\n",
    "        }\n",
    "    },\n",
    "    {\n",
    "        \"tool\": \"get_indirect_transfers\",\n",
    "        \"params\": {\n",
    "            \"source_account_id\": 75,\n",
    "            \"destination_account_id\": 199\n",
    "        }\n",
    "    },\n",
    "    {\n",
    "        \"tool\": \"get_account_inflows_outflows\",\n",
    "        \"params\": {\n",
    "            \"customer_id\": 330\n",
    "        }\n",
    "    },\n",
    "    {\n",
    "        \"tool\": \"get_destination_account_audit_events\",\n",
    "        \"params\": {\n",
    "            \"suspicious_account_id\": 11\n",
    "        }\n",
    "    },\n",
    "    {\n",
    "        \"tool\": \"get_finance_database_context\",\n",
    "        \"params\": \"How many users are in the database?\"\n",
    "    },\n",
    "    {\n",
    "        \"tool\": \"get_account_status\",\n",
    "        \"params\": {\n",
    "            \"account_id\": 75\n",
    "        }\n",
    "    },\n",
    "    {\n",
    "        \"tool\": \"get_accounts_by_customer_id\",\n",
    "        \"params\": {\n",
    "            \"customer_id\": 330\n",
    "        }\n",
    "    },\n",
    "]\n",
    "\n",
    "# Run tools \n",
    "async with ToolboxClient(\n",
    "    toolbox_url,\n",
    "    client_headers={\"Authorization\": f\"Bearer {auth_token}\"},\n",
    ") as client:\n",
    "    for t in tools_to_test:\n",
    "        print(f\"\\n\\nTesting tool: { t.get('tool') }, with Params: { t.get('params') }\")\n",
    "        tool = await client.load_tool(t.get('tool'))\n",
    "        params = t.get('params')\n",
    "        if isinstance(params, dict):\n",
    "            result = await tool(**params)\n",
    "        else:\n",
    "            result = await tool(params)\n",
    "\n",
    "        json_result = json.loads(result)\n",
    "        print(\"\\nTool result:\")\n",
    "        print(json.dumps(json_result, indent=2))\n",
    "    \n"
   ]
  },
  {
   "cell_type": "markdown",
   "id": "405b5388-6e91-40ba-8a24-955343a22fae",
   "metadata": {},
   "source": [
    "## Deploy the Interactive ADK Agent\n",
    "\n",
    "This process is the same as the agent we configured in notebook 3, but this time we exposing the service to public IP traffic and protecting it with [Identity-Aware Proxy](https://cloud.google.com/iap/docs/enabling-cloud-run). We'll also update the agent to use the new `interactive-tools` toolset that we just deployed to MCP Toolbox, and we'll use the oauth client ID of the toolbox-service-account service account as the audience for the auth_token to allow the ASK agent to securely interact with MCP Toolbox.\n",
    "\n",
    "References:\n",
    "- https://github.com/alphinside/deploy-and-manage-adk-service/tree/main/weather_agent\n",
    "- https://codelabs.developers.google.com/deploy-manage-observe-adk-cloud-run#1"
   ]
  },
  {
   "cell_type": "markdown",
   "id": "4426c855-01e8-459b-afc5-727a8c7a9e7f",
   "metadata": {},
   "source": [
    "### Use Cloud SQL for Session Persistence\n",
    "\n",
    "The Agent Development Kit (ADK) uses a Session Service to maintain the state of conversations. By default, it uses an in-memory session service, but this is not suitable for production environments where the server may restart, and sessions would be lost. To ensure persistence, we can connect the ADK to a Cloud SQL database to act as the persistent store for the Session service."
   ]
  },
  {
   "cell_type": "markdown",
   "id": "01e572e0-a2a1-4fee-acaa-5cf3c00ce0e3",
   "metadata": {},
   "source": [
    "### Create `__init__.py`"
   ]
  },
  {
   "cell_type": "code",
   "execution_count": null,
   "id": "7297e56b-4c2d-4674-96d9-5f7190499573",
   "metadata": {
    "tags": []
   },
   "outputs": [],
   "source": [
    "# Initialize the agent directory\n",
    "! mkdir -p deploy\n",
    "! mkdir -p deploy/finance_agent"
   ]
  },
  {
   "cell_type": "code",
   "execution_count": null,
   "id": "c6fa9c56-8fd9-4300-9065-e129f0dcfc2d",
   "metadata": {
    "tags": []
   },
   "outputs": [],
   "source": [
    "%%writefile deploy/finance_agent/__init__.py\n",
    "# __init__.py\n",
    "\n",
    "from .agent import root_agent\n",
    "\n",
    "__all__ = [\"root_agent\"]"
   ]
  },
  {
   "cell_type": "markdown",
   "id": "aebd33e4-438f-4ea2-ae87-a5ed946a0497",
   "metadata": {},
   "source": [
    "### Create `agent.py`"
   ]
  },
  {
   "cell_type": "code",
   "execution_count": null,
   "id": "4a451c5e-b02e-47f7-8c0f-c2a86013b0db",
   "metadata": {
    "tags": []
   },
   "outputs": [],
   "source": [
    "%%writefile deploy/finance_agent/agent.py\n",
    "import os\n",
    "import google.auth\n",
    "import google.auth.transport.requests\n",
    "import google.oauth2.id_token\n",
    "from google.adk.agents import Agent\n",
    "from toolbox_core import ToolboxSyncClient\n",
    "from opentelemetry.instrumentation.aiohttp_client import (AioHttpClientInstrumentor)\n",
    "\n",
    "\n",
    "def get_auth_token(audience):\n",
    "    # For IAM auth, Cloud Run uses your service's hostname as the `audience` value\n",
    "    # i.e. audience = 'https://my-cloud-run-service.run.app/'\n",
    "    \n",
    "    # For IAP auth, Cloud Run uses the service account's oauth client_id\n",
    "    # i.e. audience = '123456789098765432123'\n",
    "    \n",
    "    auth_req = google.auth.transport.requests.Request()\n",
    "    id_token = google.oauth2.id_token.fetch_id_token(auth_req, f\"{audience}\")\n",
    "\n",
    "    return id_token\n",
    "\n",
    "\n",
    "# The URL for the toolbox service and oauth id should be passed as environment variables\n",
    "TOOLBOX_URL = os.getenv(\"TOOLBOX_URL\")\n",
    "if not TOOLBOX_URL:\n",
    "    raise ValueError(\"TOOLBOX_URL environment variable not set.\")\n",
    "print(f\"Using TOOLBOX_URL to connect agent to MCP Toolbox: {TOOLBOX_URL}\")\n",
    "    \n",
    "TOOLBOX_OAUTH_CLIENT_ID = os.getenv(\"TOOLBOX_OAUTH_CLIENT_ID\")\n",
    "if not TOOLBOX_OAUTH_CLIENT_ID:\n",
    "    raise ValueError(\"TOOLBOX_OAUTH_CLIENT_ID environment variable not set.\")\n",
    "print(f\"Using TOOLBOX_OAUTH_CLIENT_ID url as oauth audience: {TOOLBOX_OAUTH_CLIENT_ID}\")\n",
    "\n",
    "# Get an auth token to invoke the Toolbox on Cloud Run\n",
    "auth_token = get_auth_token(TOOLBOX_OAUTH_CLIENT_ID)\n",
    "\n",
    "# Initialize the Toolbox client once and reuse it\n",
    "print(f\"Connecting to toolbox server at {TOOLBOX_URL}\")\n",
    "toolbox_client = ToolboxSyncClient(\n",
    "    TOOLBOX_URL,\n",
    "    client_headers={\"Authorization\": f\"Bearer {auth_token}\"}\n",
    ")\n",
    "\n",
    "# Define the agent's instructions\n",
    "prompt = \"\"\"\n",
    "You're a helpful financial assistant. You handle fraud detection tasks, transaction lookups,\n",
    "account details, loan payments, account transfers,suspicious activity reports, and other tasks \n",
    "related to financial data.\n",
    "\"\"\"\n",
    "\n",
    "# Define the root agent\n",
    "root_agent = Agent(\n",
    "    model='gemini-2.5-flash',\n",
    "    name='interactive_finance_agent',\n",
    "    description='A helpful AI assistant for financial tasks.',\n",
    "    instruction=prompt,\n",
    "    # Load the tools from your MCP Toolbox\n",
    "    tools=toolbox_client.load_toolset(\"interactive-tools\"),\n",
    ")\n",
    "\n",
    "# Enable the AioHttp library for Toolbox tracing\n",
    "AioHttpClientInstrumentor().instrument()"
   ]
  },
  {
   "cell_type": "markdown",
   "id": "ff8251c9-c9c6-46fa-8005-29478e8c459b",
   "metadata": {},
   "source": [
    "### Create `server.py`"
   ]
  },
  {
   "cell_type": "code",
   "execution_count": null,
   "id": "fdc4d0bb-7a3a-42e9-936a-c90d89c70795",
   "metadata": {
    "tags": []
   },
   "outputs": [],
   "source": [
    "%%writefile deploy/server.py\n",
    "import os\n",
    "from fastapi import FastAPI\n",
    "from google.adk.cli.fast_api import get_fast_api_app\n",
    "from google.cloud import logging as google_cloud_logging\n",
    "\n",
    "# OTEL imports\n",
    "from opentelemetry import trace\n",
    "from opentelemetry.sdk.trace import TracerProvider, export\n",
    "from opentelemetry.propagate import set_global_textmap\n",
    "from opentelemetry.propagators.cloud_trace_propagator import CloudTraceFormatPropagator\n",
    "from opentelemetry.exporter.cloud_trace import CloudTraceSpanExporter\n",
    "\n",
    "# Initialize the Google Cloud Logging client\n",
    "logging_client = google_cloud_logging.Client()\n",
    "logger = logging_client.logger(__name__)\n",
    "\n",
    "# The directory where your agent.py and __init__.py are located\n",
    "AGENT_DIR = os.path.dirname(os.path.abspath(__file__))\n",
    "\n",
    "# Get the session service URI from environment variables.\n",
    "# This is where you'll provide the connection string for Cloud SQL.\n",
    "session_uri = os.getenv(\"SESSION_SERVICE_URI\")\n",
    "\n",
    "# Prepare arguments for the FastAPI app\n",
    "app_args = {\"agents_dir\": AGENT_DIR, \"web\": True}\n",
    "\n",
    "# Use the Cloud SQL session service if the URI is provided\n",
    "if session_uri:\n",
    "    app_args[\"session_service_uri\"] = session_uri\n",
    "    logger.log_text(f\"Using database session service.\", severity=\"INFO\")\n",
    "else:\n",
    "    logger.log_text(\n",
    "        \"SESSION_SERVICE_URI not provided. Using in-memory session service. \"\n",
    "        \"Sessions will be lost on server restart.\",\n",
    "        severity=\"WARNING\",\n",
    "    )\n",
    "    \n",
    "# Observability\n",
    "provider = TracerProvider()\n",
    "processor = export.BatchSpanProcessor(CloudTraceSpanExporter())\n",
    "provider.add_span_processor(processor)\n",
    "trace.set_tracer_provider(provider)\n",
    "print(\"Set trace provider\")\n",
    "\n",
    "# Create the FastAPI app using the ADK utility\n",
    "app: FastAPI = get_fast_api_app(**app_args)\n",
    "\n",
    "app.title = \"finance-agent\"\n",
    "app.description = \"API for interacting with the ADK Finance Agent\"\n",
    "\n",
    "# Main execution\n",
    "if __name__ == \"__main__\":\n",
    "    import uvicorn\n",
    "    \n",
    "    # Enable the AioHttp library for Toolbox tracing\n",
    "    AioHttpClientInstrumentor().instrument()\n",
    "\n",
    "    # Instrument the FastAPI app.\n",
    "    # This automatically creates parent spans for requests and propagates the trace context.\n",
    "    FastAPIInstrumentor.instrument_app(app)\n",
    "\n",
    "    uvicorn.run(app, host=\"0.0.0.0\", port=8080)\n",
    "    \n",
    "    "
   ]
  },
  {
   "cell_type": "markdown",
   "id": "a98f4c55-72dc-4068-8338-28d17a3ce239",
   "metadata": {},
   "source": [
    "### Create `pyproject.toml`"
   ]
  },
  {
   "cell_type": "code",
   "execution_count": null,
   "id": "6f1c5090-9c6a-46ea-bdda-415973780fdc",
   "metadata": {
    "tags": []
   },
   "outputs": [],
   "source": [
    "%%writefile deploy/pyproject.toml\n",
    "[project]\n",
    "name = \"deploy-and-manage-adk-service\"\n",
    "version = \"0.1.0\"\n",
    "description = \"Add your description here\"\n",
    "readme = \"README.md\"\n",
    "requires-python = \">=3.12\"\n",
    "dependencies = [\n",
    "    \"google-adk==1.5.0\",\n",
    "    \"locust==2.37.10\",\n",
    "    \"pg8000==1.31.2\",\n",
    "    \"python-dotenv==1.1.0\",\n",
    "    \"toolbox-core==0.2.1\",\n",
    "    \"google-genai==1.23.0\",\n",
    "    \"opentelemetry-instrumentation-fastapi==0.55b1\",\n",
    "    \"opentelemetry-api>=1.20.0\",\n",
    "    \"opentelemetry-sdk>=1.20.0\",\n",
    "    \"opentelemetry-instrumentation-fastapi>=0.40.0\",\n",
    "    \"opentelemetry-exporter-gcp-trace>=1.9.0\",\n",
    "    \"opentelemetry-propagator-gcp==1.9.0\",\n",
    "    \"opentelemetry-exporter-gcp-monitoring==1.9.0a0\",\n",
    "    \"opentelemetry-exporter-otlp\",\n",
    "    \"opentelemetry-instrumentation-requests==0.55b1\",\n",
    "    \"opentelemetry-instrumentation-aiohttp-client\"\n",
    "]\n",
    "\n",
    "[dependency-groups]\n",
    "dev = [\n",
    "    \"pytest==8.4.0\",\n",
    "    \"ruff==0.11.13\",\n",
    "]"
   ]
  },
  {
   "cell_type": "markdown",
   "id": "35422840-76f5-4aa7-9444-a7b7c7ae4886",
   "metadata": {
    "tags": []
   },
   "source": [
    "### Create a Dockerfile"
   ]
  },
  {
   "cell_type": "code",
   "execution_count": null,
   "id": "1df20ec5-a8f9-4d11-ad7f-368bfbebeeca",
   "metadata": {
    "tags": []
   },
   "outputs": [],
   "source": [
    "%%writefile deploy/Dockerfile\n",
    "FROM python:3.12-slim\n",
    "RUN pip install --no-cache-dir uv==0.7.13\n",
    "WORKDIR /app\n",
    "COPY . .\n",
    "RUN uv sync\n",
    "EXPOSE 8080\n",
    "CMD [\"uv\", \"run\", \"uvicorn\", \"server:app\", \"--host\", \"0.0.0.0\", \"--port\", \"8080\"]\n"
   ]
  },
  {
   "cell_type": "markdown",
   "id": "057ab465-1105-4ee3-9b84-52f0f96d4b8f",
   "metadata": {},
   "source": [
    "### Deploy the ADK Agent to Cloud Run\n",
    "\n",
    "Since this Cloud Run service indirectly interacts with sensitive databases, we want to be mindful of security best practices during deployment.\n",
    "\n",
    "Key security configurations:\n",
    "- `--network={vpc}` / `--subnet={vpc}`: Deploys the service within our private VPC.\n",
    "- `--service-account=adk-service-account`: Uses a dedicated service account with least-privilege permissions.\n",
    "- `--no-allow-unauthenticated`: Enforces IAM authentication for all invocations.\n",
    "- `--ingress=all`: Allows public network ingress this time to allow users to access the web UI. We secure this with IAP. \n",
    "- `--allow-unauthenticated`: Disable IAM authentication. We secure the connection with IAP instead.\n",
    "- We leverage private DNS resolution and Google Private Access (which we setup in notebook 3) for secure communication between the Agent and MCP Toolbox Cloud Run services.\n",
    "- We use the oauth client ID of the toolbox-service-account service to authenticate calls between the ADK agent and MCP Toolbox.\n",
    "\n"
   ]
  },
  {
   "cell_type": "code",
   "execution_count": null,
   "id": "b314cbb1-3a2c-428b-8771-9f0141cdcc65",
   "metadata": {
    "tags": []
   },
   "outputs": [],
   "source": [
    "# Get the MCP Toolbox endpoint\n",
    "toolbox_url = ! gcloud run services describe toolbox --region {region} --format 'value(metadata.annotations.\"run.googleapis.com/urls\")'\n",
    "toolbox_url = json.loads(toolbox_url[0])[0]\n",
    "print(f\"Toolbox Cloud Run endpoint: {toolbox_url}\")\n",
    "\n",
    "# Get the toolbox-service-account oauth client id\n",
    "toolbox_oauth_id = !gcloud iam service-accounts describe toolbox-service-account@{project_id}.iam.gserviceaccount.com --format='value(\"oauth2ClientId\")'\n",
    "toolbox_oauth_id = toolbox_oauth_id[0]\n",
    "print(f\"Toolbox OAuth Client ID: {toolbox_oauth_id}\")\n",
    "\n",
    "# Get Cloud SQL connection name\n",
    "cloud_sql_psc_ip = !gcloud compute forwarding-rules describe psc-forwarding-rule-{cloud_sql_instance} \\\n",
    "    --region={region} \\\n",
    "    --project={project_id} \\\n",
    "    --format=\"value(IPAddress)\"\n",
    "cloud_sql_psc_ip = cloud_sql_psc_ip[0]\n",
    "\n",
    "# Construct the SESSION_SERVICE_URI\n",
    "session_service_uri = f\"postgresql+pg8000://postgres:{cloud_sql_password}@{cloud_sql_psc_ip}:5432/postgres\"\n",
    "\n",
    "print(f\"SESSION_SERVICE_URI: {session_service_uri}\")\n",
    "\n",
    "!gcloud beta run deploy finance-agent --quiet --no-user-output-enabled \\\n",
    "    --source ./deploy/ \\\n",
    "    --network={vpc} \\\n",
    "    --subnet={vpc} \\\n",
    "    --ingress=all \\\n",
    "    --port 8080 \\\n",
    "    --project {project_id} \\\n",
    "    --region {region} \\\n",
    "    --allow-unauthenticated \\\n",
    "    --update-env-vars=TOOLBOX_URL={toolbox_url},GOOGLE_GENAI_USE_VERTEXAI=True,SESSION_SERVICE_URI={session_service_uri},GOOGLE_CLOUD_PROJECT={project_id},GOOGLE_CLOUD_LOCATION={region},GCS_BUCKET_NAME={gcs_bucket_name},TOOLBOX_OAUTH_CLIENT_ID={toolbox_oauth_id} \\\n",
    "    --min=1 \\\n",
    "    --service-account=adk-service-account \\\n",
    "    --memory=1Gi \\\n",
    "    --iap"
   ]
  },
  {
   "cell_type": "markdown",
   "id": "b3c919ed-4ccc-4d2f-a1d8-2f5075567296",
   "metadata": {},
   "source": [
    "## Grant Necessary Service Account Permissions for the ADK Service\n",
    "\n",
    "Now that we are using both IAP and IAM to protect the toolbox service, we need to grant permissions in 3 places for this to work:\n",
    "1. IAM `roles/run.invoker` permissions on the toolbox service for the **ADK service account**.\n",
    "2. IAP `roles/iap.httpsResourceAccessor`role policy permissions on the toolbox service for the **ADK service account**.\n",
    "3. IAP programmatic access on the project for the oauth client ID of the **service-side service account** (e.g. `toolbox-service-account`). Note that we already configured this permission in the Toolbox deployment section, so we can skip it here."
   ]
  },
  {
   "cell_type": "markdown",
   "id": "9d781dc2-5f2f-4664-b4f1-7d9341e7f896",
   "metadata": {},
   "source": [
    "### Grant `roles/run.invoker` to the ADK Service Account\n",
    "\n",
    "Since we enabled IAM authentication on the toolbox service as a second layer of security, we will need to grant IAM invoke access to the finance-agent in addition to authenticating the tool invocations with IAP. "
   ]
  },
  {
   "cell_type": "code",
   "execution_count": null,
   "id": "1dd906af-8fa4-42fd-9901-3079d8334094",
   "metadata": {
    "tags": []
   },
   "outputs": [],
   "source": [
    "# Get account finance-agent service account\n",
    "adk_service_account = !gcloud run services describe finance-agent \\\n",
    "    --region={region} \\\n",
    "    --format=\"value(spec.template.spec.serviceAccountName)\"\n",
    "adk_service_account = adk_service_account[0]\n",
    "print(f\"ADK Service Account: {adk_service_account}\")\n",
    "\n",
    "# Grant service account invoke permissions on toolbox\n",
    "!gcloud run services add-iam-policy-binding toolbox --region={region} \\\n",
    "    --member=serviceAccount:{adk_service_account} \\\n",
    "    --role=\"roles/run.invoker\""
   ]
  },
  {
   "cell_type": "markdown",
   "id": "f09ee746-40b6-4492-9f5e-de8e66149706",
   "metadata": {},
   "source": [
    "### Grant `roles/iap.httpsResourceAccessor` to the ADK Service Account"
   ]
  },
  {
   "cell_type": "code",
   "execution_count": null,
   "id": "81d3597a-f270-4349-8ead-fee9c17ccef8",
   "metadata": {
    "tags": []
   },
   "outputs": [],
   "source": [
    "# Grant httpsResourceAccessor IAP access on toolbox to the notebook service account\n",
    "!gcloud beta iap web add-iam-policy-binding \\\n",
    "    --member=serviceAccount:{adk_service_account} \\\n",
    "    --role=roles/iap.httpsResourceAccessor \\\n",
    "    --region={region} \\\n",
    "    --resource-type=cloud-run \\\n",
    "    --service=toolbox \\\n",
    "    --condition=None"
   ]
  },
  {
   "cell_type": "markdown",
   "id": "0495555e-2d17-4960-9ffd-c5ce52d1a961",
   "metadata": {},
   "source": [
    "## Grant Necessary User Permissions"
   ]
  },
  {
   "cell_type": "markdown",
   "id": "a3643031-6151-4d43-ade5-8c79e2925082",
   "metadata": {},
   "source": [
    "### Trying Accessing the Web UI\n",
    "\n",
    "1. Run the cell below to get your web UI URL, and try to access it. You'll be prompted to login. \n",
    "2. Login with your student account when prompted. You will get an error saying \"You don't have access.\" This is expected. We'll add permissions in the next cell."
   ]
  },
  {
   "cell_type": "code",
   "execution_count": null,
   "id": "bbac52db-9aa9-4137-a599-15e347c137a5",
   "metadata": {
    "tags": []
   },
   "outputs": [],
   "source": [
    "# Retrieve the Web UI URL\n",
    "agent_url = !gcloud run services describe finance-agent --region {region} --format 'value(status.url)'\n",
    "agent_url = agent_url[0]\n",
    "print(agent_url)"
   ]
  },
  {
   "cell_type": "markdown",
   "id": "ce2688ee-9bdc-4e87-9290-2c7c2c8e169c",
   "metadata": {},
   "source": [
    "### Add IAP User Permissions\n",
    "\n",
    "Next, we'll add permissions for your student account so that you can securely access the Web UI. Replace `student_email` with the email address you are using to access the Google Cloud Console."
   ]
  },
  {
   "cell_type": "code",
   "execution_count": null,
   "id": "09c7d7c8-52d2-42b8-839a-d5bf89c89bbe",
   "metadata": {
    "tags": []
   },
   "outputs": [],
   "source": [
    "# Replace the variable value for student_email below with your student email address.\n",
    "student_email = \"user@example.com\"\n",
    "\n",
    "# Add IAP access to the ADK Cloud Run service for your student account\n",
    "!gcloud beta iap web add-iam-policy-binding \\\n",
    "    --member=user:{student_email} \\\n",
    "    --role=roles/iap.httpsResourceAccessor \\\n",
    "    --region={region} \\\n",
    "    --resource-type=cloud-run \\\n",
    "    --service=finance-agent \\\n",
    "    --condition=None\n"
   ]
  },
  {
   "cell_type": "markdown",
   "id": "b5420d71-35f1-4cfe-91d9-eeca2621e7f0",
   "metadata": {
    "tags": []
   },
   "source": [
    "### Access the UI\n",
    "\n",
    "Now wait for a little over a minute and try access the UI again. This time you should see an interface like the screenshot below.\n",
    "\n",
    "![ADK UI](img/adk-ui/adk-ui.png)"
   ]
  },
  {
   "cell_type": "markdown",
   "id": "3c28b5d5-bef5-4c4a-9871-8555cade77bd",
   "metadata": {},
   "source": [
    "## Test the Agent\n",
    "\n",
    "Now you can interact with your agent through the web UI. The following scenarios are designed to test the different tools you have configured. Pay attention to how the agent selects and uses the appropriate tool based on your natural language questions. You can also click on the tool calls in the UI to see the detailed execution flow.\n",
    "\n",
    "> NOTE: If you see errors like the following, check your permissions in the cells above and try again: `{\"error\": \"401, message='Attempt to decode JSON with unexpected mimetype: text/html; charset=utf-8', url='https://toolbox-123456789098.us-central1.run.app/api/tool/get_loan_repayments/invoke'\"}`"
   ]
  },
  {
   "cell_type": "markdown",
   "id": "7408a63a-2ce0-4e94-8173-d3884f7918dd",
   "metadata": {},
   "source": [
    "### Scenario 1: Investigating a Customer's Loan Repayments\n",
    "This conversation flow utilizes the Spanner `get_loan_repayments` tool to investigate a customer's financial history.\n",
    "\n",
    "- Initial User Question: \"Can you show me the loan repayment history for customer ID 263?\"\n",
    "- Follow-up Question 1: \"Thanks. Can you tell me the total amount of the loans this customer has repaid?\"\n",
    "- Follow-up Question 2: \"Which account was used for the most recent repayment, and what was the date of that transaction?\"\n",
    "- Follow-up Question 3: \"Based on the data, what is the largest single loan amount this customer has taken out?\"\n",
    "\n",
    "Click on the `get_loan_repayments` tool call to see a graph of the conversation execution flow and details about each step.\n",
    "\n",
    "![ADK Scenario 1](img/adk-ui/scenario_1.png)"
   ]
  },
  {
   "cell_type": "markdown",
   "id": "2b565385-21eb-4c8f-ae6a-9aa5bb5a5488",
   "metadata": {},
   "source": [
    "\n",
    "### Scenario 2: Analyzing Suspicious Account Activity\n",
    "This exchange uses the Spanner `get_account_inflows_outflows` tool to analyze the movement of money.\n",
    "\n",
    "- Initial User Question: \"I need to analyze the account activity for customer 330. Can you get the total inflows and outflows for their accounts?\"\n",
    "- Follow-up Question 1: \"Which of their accounts has the highest ratio of inflows to outflows?\"\n",
    "- Follow-up Question 2: \"Is the account with the high inflow/outflow ratio currently blocked? And what type of account is it?\"\n",
    "- Follow-up Question 3: \"Can you list all the accounts for this customer and their corresponding money flow ratios?\"\n",
    "\n",
    "Click on the `get_account_inflows_outflows` tool call to see a graph of the conversation execution flow and details about each step.\n",
    "\n",
    "![ADK Scenario 2](img/adk-ui/scenario_2.png)"
   ]
  },
  {
   "cell_type": "markdown",
   "id": "a4247568-cad3-458d-b82a-b5271aa2c521",
   "metadata": {},
   "source": [
    "### Scenario 3: Tracing Potential Money Laundering\n",
    "This conversation uses the Spanner  `get_indirect_transfers` and `get_destination_account_audit_events` tools to trace a series of transactions, and it uses the `block_account` tool to take action on the investigation.\n",
    "\n",
    "- Initial User Question: \"I suspect there might be some indirect money transfers between account 75 and account 199. Can you check if there were any indirect transfers between them?\"\n",
    "- Follow-up Question 1: \"How many hops were there in the transfer? Also, can you tell me if either the source or destination account is currently blocked?\"\n",
    "- Follow-up Question 2: \"There's some activity on a related account, account 11, that seems suspicious. Can you pull the latest audit events for accounts that received a transfer from that account?\"\n",
    "- Follow-up Question 3: \"From the audit trail, can you identify the timestamps of the audit events and any details associated with them? Flag anything that seems suspicious.\"\n",
    "- Follow-up Action 1: \"Block account 446.\"\n",
    "- Follow-up Question 4: \"Who owns the intermediary accounts for the indirect transfers?\"\n",
    "- Follow-up Action 2: \"Block all the intermediary accounts.\"\n",
    "\n",
    "\n",
    "Click on the `get_loan_repayments` tool call to see a graph of the conversation execution flow and details about each step.\n",
    "\n",
    "![ADK Scenario 3](img/adk-ui/scenario_3.png)"
   ]
  },
  {
   "cell_type": "markdown",
   "id": "5c511995-dc52-4b9d-8fe8-a7a1f81c09a0",
   "metadata": {},
   "source": [
    "### Scenario 4: General Database Queries\n",
    "This conversation flow demonstrates the use of the flexible `get_finance_database_context` tool for more open-ended questions about the finance database in AlloyDB.\n",
    "\n",
    "- Initial User Question: \"How many customers do we have?\"\n",
    "- Follow-up Question 1: \"Can you give me a count of all transactions that have been flagged for fraud?\"\n",
    "- Follow-up Question 2: \"What are the top 5 merchant categories that are flagged for fraud?\"\n",
    "- Follow-up Question 3: \"Compare that with the list of the top 5 merchant categories by transaction volume.\"\n",
    "\n",
    "Click on the `get_loan_repayments` tool call to see a graph of the conversation execution flow and details about each step.\n",
    "\n",
    "![ADK Scenario 4](img/adk-ui/scenario_4.png)"
   ]
  },
  {
   "cell_type": "markdown",
   "id": "e2fd1634",
   "metadata": {},
   "source": [
    "Congratulations, you have successfully completed the course! By completing this course, you have successfully designed, built, and deployed a sophisticated and secure AI agent capable of interacting with sensitive financial data in an enterprise environment. You've gained hands-on experience with Google's Agent Development Kit (ADK) and MCP Toolbox for Databases, learning how to create and customize powerful tools for your agent. More importantly, you've mastered the critical security principles and services necessary for enterprise-grade AI, including the configuration of private networks (VPC, PSC, PSA, GPA) and the implementation of robust access controls with Identity-Aware Proxy (IAP). You are now equipped with the knowledge to build and deploy your own secure, interactive, and autonomous agents that can safely connect to and reason about sensitive data in a real-world enterprise setting."
   ]
  }
 ],
 "metadata": {
  "environment": {
   "kernel": "conda-base-py",
   "name": "workbench-notebooks.m130",
   "type": "gcloud",
   "uri": "us-docker.pkg.dev/deeplearning-platform-release/gcr.io/workbench-notebooks:m130"
  },
  "kernelspec": {
   "display_name": "Python 3 (ipykernel) (Local) (Local)",
   "language": "python",
   "name": "conda-base-py"
  },
  "language_info": {
   "codemirror_mode": {
    "name": "ipython",
    "version": 3
   },
   "file_extension": ".py",
   "mimetype": "text/x-python",
   "name": "python",
   "nbconvert_exporter": "python",
   "pygments_lexer": "ipython3",
   "version": "3.10.18"
  }
 },
 "nbformat": 4,
 "nbformat_minor": 5
}
