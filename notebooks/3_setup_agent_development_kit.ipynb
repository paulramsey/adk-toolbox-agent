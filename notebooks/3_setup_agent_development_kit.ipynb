{
 "cells": [
  {
   "cell_type": "markdown",
   "id": "321adc7f-f386-4dbf-bb9c-d5f789421f78",
   "metadata": {},
   "source": [
    "# Setup the Agent Development Kit\n",
    "\n",
    "<img src=\"img/agent_development_kit_logo.png\" align=\"left\" style=\"height: 100px;\">Agent Development Kit (ADK) is a flexible and modular framework for developing and deploying AI agents. While optimized for Gemini and the Google ecosystem, ADK is model-agnostic, deployment-agnostic, and is built for compatibility with other frameworks. ADK was designed to make agent development feel more like software development, to make it easier for developers to create, deploy, and orchestrate agentic architectures that range from simple tasks to complex workflows."
   ]
  },
  {
   "cell_type": "markdown",
   "id": "0927ae02-125e-4d3e-a885-1e437e6bddb6",
   "metadata": {},
   "source": [
    "## Basic Setup"
   ]
  },
  {
   "cell_type": "markdown",
   "id": "842a3ca3-4f62-4190-bbb6-10e7da9b13c8",
   "metadata": {},
   "source": [
    "### Define Notebook Variables\n",
    "\n",
    "Update the variables below to match your environment. You will be prompted for the AlloyDB password you chose then you provisioned the environment with Terraform."
   ]
  },
  {
   "cell_type": "code",
   "execution_count": null,
   "id": "e4fa431b-2efd-4db1-89e1-b97b4fc722df",
   "metadata": {
    "tags": []
   },
   "outputs": [],
   "source": [
    "# Project variables\n",
    "project_id = \"your-project\"\n",
    "region = \"your-region\"\n",
    "vpc = \"demo-vpc\"\n",
    "gcs_bucket_name = f\"project-files-{project_id}\""
   ]
  },
  {
   "cell_type": "code",
   "execution_count": null,
   "id": "01db8a8b-cae4-4978-bb9a-e2e5a8465696",
   "metadata": {
    "tags": []
   },
   "outputs": [],
   "source": [
    "# Set env variable to suppress annoying system warnings when running shell commands\n",
    "%env GRPC_ENABLE_FORK_SUPPORT=1"
   ]
  },
  {
   "cell_type": "markdown",
   "id": "62bc39dc-f6ee-455e-853a-643c12918c2f",
   "metadata": {},
   "source": [
    "### Connect to your Google Cloud Project"
   ]
  },
  {
   "cell_type": "code",
   "execution_count": null,
   "id": "5d972baa-ffa7-47c7-a965-fdaa114262b5",
   "metadata": {
    "tags": []
   },
   "outputs": [],
   "source": [
    "# Configure gcloud.\n",
    "!gcloud config set project {project_id}"
   ]
  },
  {
   "cell_type": "markdown",
   "id": "38a124be-854e-4465-bab2-44ea855d9256",
   "metadata": {},
   "source": [
    "### Configure Logging"
   ]
  },
  {
   "cell_type": "code",
   "execution_count": null,
   "id": "66056e25-5e3a-47e3-a842-8fe6fadd9a33",
   "metadata": {
    "tags": []
   },
   "outputs": [],
   "source": [
    "import logging\n",
    "import sys\n",
    "\n",
    "# Configure the root logger to output messages with ERROR level\n",
    "logging.basicConfig(level=logging.ERROR, stream=sys.stdout, format='%(asctime)s[%(levelname)5s][%(name)14s] - %(message)s',  datefmt='%H:%M:%S', force=True)"
   ]
  },
  {
   "cell_type": "markdown",
   "id": "b72eb606-f634-424f-be79-c1b75b1b1e14",
   "metadata": {},
   "source": [
    "### Install Dependencies"
   ]
  },
  {
   "cell_type": "code",
   "execution_count": null,
   "id": "f7c2e387-9dfc-49c2-8a32-2c54d7eebcc2",
   "metadata": {
    "tags": []
   },
   "outputs": [],
   "source": [
    "! pip install --quiet toolbox-core==0.2.1 \\\n",
    "                      google-adk==1.5.0 \\\n",
    "                      google-genai==1.23.0\n"
   ]
  },
  {
   "cell_type": "markdown",
   "id": "db5cf49a-a04d-429c-a5f3-2df8e068fc81",
   "metadata": {},
   "source": [
    "## Build an Agent with MCP Toolbox Tools"
   ]
  },
  {
   "cell_type": "markdown",
   "id": "4ebd328f-1f6c-4123-9bfc-5e40f1e207bc",
   "metadata": {},
   "source": [
    "### Get the Toolbox Endpoint"
   ]
  },
  {
   "cell_type": "code",
   "execution_count": null,
   "id": "100a6f20-9494-4da1-8fed-49744f5bce53",
   "metadata": {
    "tags": []
   },
   "outputs": [],
   "source": [
    "import json\n",
    "\n",
    "toolbox_url = ! gcloud run services describe toolbox --region {region} --format 'value(metadata.annotations.\"run.googleapis.com/urls\")'\n",
    "toolbox_url = json.loads(toolbox_url[0])[0]\n",
    "print(toolbox_url)"
   ]
  },
  {
   "cell_type": "markdown",
   "id": "a72ea11a-b888-4c4d-80a7-d8d67d70e7f3",
   "metadata": {
    "tags": []
   },
   "source": [
    "### Get Auth Token\n",
    "\n",
    "We required authenticated invocations of the Cloud Run service, so we first need to grab an auth token to use with our ToolboxClient. "
   ]
  },
  {
   "cell_type": "code",
   "execution_count": null,
   "id": "42440d62-eb7e-4dc2-a884-195b521356ff",
   "metadata": {
    "tags": []
   },
   "outputs": [],
   "source": [
    "import urllib\n",
    "\n",
    "import google.auth.transport.requests\n",
    "import google.oauth2.id_token\n",
    "\n",
    "\n",
    "def get_auth_token(endpoint):\n",
    "    # Cloud Run uses your service's hostname as the `audience` value\n",
    "    # audience = 'https://my-cloud-run-service.run.app/'\n",
    "    # For Cloud Run, `endpoint` is the URL (hostname + path) receiving the request\n",
    "    # endpoint = 'https://my-cloud-run-service.run.app/my/awesome/url'\n",
    "    \n",
    "    auth_req = google.auth.transport.requests.Request()\n",
    "    id_token = google.oauth2.id_token.fetch_id_token(auth_req, endpoint)\n",
    "\n",
    "    return id_token"
   ]
  },
  {
   "cell_type": "markdown",
   "id": "1a48eb1b-2ea9-4fde-93f7-6ece1032b567",
   "metadata": {
    "tags": []
   },
   "source": [
    "### Define Agent"
   ]
  },
  {
   "cell_type": "code",
   "execution_count": null,
   "id": "ff50e697-2dfb-46ba-a5bf-e64dff1ad467",
   "metadata": {},
   "outputs": [],
   "source": [
    "# Reference: https://googleapis.github.io/genai-toolbox/getting-started/local_quickstart/\n",
    "\n",
    "from google.adk.agents import Agent\n",
    "from google.adk.runners import Runner\n",
    "from google.adk.sessions import InMemorySessionService\n",
    "from google.adk.artifacts.in_memory_artifact_service import InMemoryArtifactService\n",
    "from google import genai\n",
    "from google.genai import types\n",
    "from toolbox_core import ToolboxSyncClient\n",
    "\n",
    "import asyncio\n",
    "import os\n",
    "\n",
    "# Use GOOGLE_API_KEY or Vertex AI\n",
    "# os.environ['GOOGLE_API_KEY'] = 'your-api-key'\n",
    "\n",
    "os.environ['GOOGLE_GENAI_USE_VERTEXAI'] = 'TRUE'\n",
    "os.environ['GOOGLE_CLOUD_PROJECT']      = project_id\n",
    "os.environ['GOOGLE_CLOUD_LOCATION']     = region\n",
    "\n",
    "# Get auth token to invoke Toolbox on Cloud Run\n",
    "auth_token = get_auth_token(toolbox_url)\n",
    "\n",
    "async def invoke_agent(query: str):\n",
    "  with ToolboxSyncClient(\n",
    "        toolbox_url,\n",
    "        client_headers={\"Authorization\": f\"Bearer {auth_token}\"}\n",
    "  ) as toolbox_client:\n",
    "\n",
    "      prompt = \"\"\"\n",
    "        You're a helpful financial assistant. You handle fraud detection tasks, transaction lookups,\n",
    "        account details, loan payments, suspicious activity reports, and other tasks related to \n",
    "        financial data. Always provide a customer_id when using tools to lookup information.\n",
    "      \"\"\"\n",
    "\n",
    "      app_name = 'finance_agent'\n",
    "    \n",
    "      user_id = '123'\n",
    "\n",
    "      root_agent = Agent(\n",
    "          model='gemini-2.5-flash',\n",
    "          name=app_name,\n",
    "          description='A helpful AI assistant.',\n",
    "          instruction=prompt,\n",
    "          tools=toolbox_client.load_toolset(\"finance-toolset\"),\n",
    "      )\n",
    "\n",
    "      session_service = InMemorySessionService()\n",
    "      artifacts_service = InMemoryArtifactService()\n",
    "      session = await session_service.create_session(\n",
    "          state={}, app_name=app_name, user_id=user_id\n",
    "      )\n",
    "      runner = Runner(\n",
    "          app_name=app_name,\n",
    "          agent=root_agent,\n",
    "          artifact_service=artifacts_service,\n",
    "          session_service=session_service,\n",
    "      )\n",
    "\n",
    "      content = types.Content(role='user', parts=[types.Part(text=query)])\n",
    "      events = runner.run(session_id=session.id,\n",
    "                          user_id=user_id, new_message=content)\n",
    "\n",
    "      responses = (\n",
    "        part.text\n",
    "        for event in events\n",
    "        for part in event.content.parts\n",
    "        if part.text is not None\n",
    "      )\n",
    "\n",
    "      for text in responses:\n",
    "        print(text)\n"
   ]
  },
  {
   "cell_type": "markdown",
   "id": "4892e166-1953-4f6f-872a-a9cd6d85e787",
   "metadata": {},
   "source": [
    "### Manually Invoke the Agent"
   ]
  },
  {
   "cell_type": "code",
   "execution_count": null,
   "id": "fae5a659-d9cb-4d2e-89fe-1f23e993261d",
   "metadata": {
    "tags": []
   },
   "outputs": [],
   "source": [
    "prompts = [\n",
    "    \"What are the latest trasactions for customer_id 11?\",\n",
    "    \"Tell me about the recent account transfers made by customer_id 8 and flag any suspicious activity.\",\n",
    "    \"Is anything strange about the latest tranactions made by customer_id 3?\",\n",
    "]\n",
    "\n",
    "for p in prompts:\n",
    "    print(f\"User prompt: {p}\\n\")\n",
    "    print(\"Agent response:\")\n",
    "    response = await invoke_agent(p)\n",
    "    print(\"\\n\\n\")\n",
    "    "
   ]
  },
  {
   "cell_type": "markdown",
   "id": "d926bb0f-da94-4b76-9205-38c9640f2635",
   "metadata": {},
   "source": [
    "## Inspect Agent Processing\n",
    "\n",
    "The examples above show that the Agent has access to our databases via MCP Toolbox, because the output contains data the Agent wouldn't otherwise know. But what if we want to debug an Agent's logic or understand the specific tool calls that were made? When developing locally, we can set the log level to info to see detailed, step-by-step Agent execution and tool call details. "
   ]
  },
  {
   "cell_type": "markdown",
   "id": "142bc4bd-6ffc-45ee-a649-e6069984835c",
   "metadata": {},
   "source": [
    "### Set log level to INFO"
   ]
  },
  {
   "cell_type": "code",
   "execution_count": null,
   "id": "ce4f46b5-35c0-4d47-9d5a-8774aedb234b",
   "metadata": {
    "tags": []
   },
   "outputs": [],
   "source": [
    "import logging\n",
    "import sys\n",
    "\n",
    "# Configure the root logger to output messages with INFO level or above\n",
    "logging.basicConfig(level=logging.INFO, stream=sys.stdout, format='%(asctime)s[%(levelname)5s][%(name)14s] - %(message)s',  datefmt='%H:%M:%S', force=True)"
   ]
  },
  {
   "cell_type": "markdown",
   "id": "27d15117-2083-4f1d-8a92-3fbf9095766f",
   "metadata": {},
   "source": [
    "### Examine Detailed Output"
   ]
  },
  {
   "cell_type": "code",
   "execution_count": null,
   "id": "c057993a-e8c6-43e4-99ba-7f2b8b30066b",
   "metadata": {
    "tags": []
   },
   "outputs": [],
   "source": [
    "prompt = \"How many transfers has customer_id 462 made recently? Is there anything strange about the transfers?\"\n",
    "await invoke_agent(prompt)"
   ]
  },
  {
   "cell_type": "code",
   "execution_count": null,
   "id": "c4488c48-f705-47fd-b712-f747b7a8778e",
   "metadata": {},
   "outputs": [],
   "source": []
  },
  {
   "cell_type": "code",
   "execution_count": null,
   "id": "a865a5ab-5cb6-47ac-a4f0-8f44666f9101",
   "metadata": {},
   "outputs": [],
   "source": []
  },
  {
   "cell_type": "code",
   "execution_count": null,
   "id": "663c060d-c88b-4f4a-9ded-b9dcdd819736",
   "metadata": {},
   "outputs": [],
   "source": []
  }
 ],
 "metadata": {
  "environment": {
   "kernel": "conda-base-py",
   "name": "workbench-notebooks.m130",
   "type": "gcloud",
   "uri": "us-docker.pkg.dev/deeplearning-platform-release/gcr.io/workbench-notebooks:m130"
  },
  "kernelspec": {
   "display_name": "Python 3 (ipykernel) (Local)",
   "language": "python",
   "name": "conda-base-py"
  },
  "language_info": {
   "codemirror_mode": {
    "name": "ipython",
    "version": 3
   },
   "file_extension": ".py",
   "mimetype": "text/x-python",
   "name": "python",
   "nbconvert_exporter": "python",
   "pygments_lexer": "ipython3",
   "version": "3.10.18"
  }
 },
 "nbformat": 4,
 "nbformat_minor": 5
}
