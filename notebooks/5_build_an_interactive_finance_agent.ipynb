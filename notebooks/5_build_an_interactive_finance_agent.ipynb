{
 "cells": [
  {
   "cell_type": "markdown",
   "id": "321adc7f-f386-4dbf-bb9c-d5f789421f78",
   "metadata": {},
   "source": [
    "# Build an Interactice Finance Agent\n",
    "\n",
    "This notebook leverages all the skills you've learned so far to build an interactive agent that can securely access our financial databases. First, you will configure a new flexible toolset for MCP Toolbox. Then you will deploy a new version of the Finance Agent that is available to access over public IP, secured by IAP to prevent unauthorized access. Finally, you will use the built-in ADK Agent UI to interact with the agent to answer ad-hoc questions about transactions, credit cards, and account transfers. \n",
    "\n",
    "> IMPORTANT: The notebooks in this repo build on top of one another. Be sure to run the preceding notebooks before you run this one. "
   ]
  },
  {
   "cell_type": "markdown",
   "id": "0927ae02-125e-4d3e-a885-1e437e6bddb6",
   "metadata": {},
   "source": [
    "## Basic Setup"
   ]
  },
  {
   "cell_type": "markdown",
   "id": "842a3ca3-4f62-4190-bbb6-10e7da9b13c8",
   "metadata": {},
   "source": [
    "### Define Notebook Variables\n",
    "\n",
    "Update the variables below to match your environment. You will be prompted for the AlloyDB password you chose then you provisioned the environment with Terraform."
   ]
  },
  {
   "cell_type": "code",
   "execution_count": null,
   "id": "e4fa431b-2efd-4db1-89e1-b97b4fc722df",
   "metadata": {
    "tags": []
   },
   "outputs": [],
   "source": [
    "# Project variables\n",
    "project_id = \"your-project\"\n",
    "region = \"your-region\"\n",
    "vpc = \"demo-vpc\"\n",
    "gcs_bucket_name = f\"project-files-{project_id}\"\n",
    "\n",
    "# AlloyDB variables\n",
    "alloydb_cluster = \"my-alloydb-cluster\"\n",
    "alloydb_instance = \"my-alloydb-instance\"\n",
    "alloydb_database = \"finance\"\n",
    "\n",
    "# Spanner variables\n",
    "spanner_instance = \"my-spanner-instance\"\n",
    "spanner_database = \"finance-graph\"\n",
    "\n",
    "# Cloud SQL Variables\n",
    "cloud_sql_instance = \"my-postgres-instance\"\n",
    "cloud_sql_database = \"postgres\"\n",
    "cloud_sql_user = \"postgres\"\n",
    "cloud_sql_password = input(\"Please enter the password for the Cloud SQL 'postgres' database user: \")"
   ]
  },
  {
   "cell_type": "code",
   "execution_count": null,
   "id": "01db8a8b-cae4-4978-bb9a-e2e5a8465696",
   "metadata": {
    "tags": []
   },
   "outputs": [],
   "source": [
    "# Set env variable to suppress annoying system warnings when running shell commands\n",
    "%env GRPC_ENABLE_FORK_SUPPORT=1"
   ]
  },
  {
   "cell_type": "markdown",
   "id": "62bc39dc-f6ee-455e-853a-643c12918c2f",
   "metadata": {},
   "source": [
    "### Connect to your Google Cloud Project"
   ]
  },
  {
   "cell_type": "code",
   "execution_count": null,
   "id": "5d972baa-ffa7-47c7-a965-fdaa114262b5",
   "metadata": {
    "tags": []
   },
   "outputs": [],
   "source": [
    "# Configure gcloud.\n",
    "!gcloud config set project {project_id}"
   ]
  },
  {
   "cell_type": "markdown",
   "id": "38a124be-854e-4465-bab2-44ea855d9256",
   "metadata": {},
   "source": [
    "### Configure Logging"
   ]
  },
  {
   "cell_type": "code",
   "execution_count": null,
   "id": "66056e25-5e3a-47e3-a842-8fe6fadd9a33",
   "metadata": {
    "tags": []
   },
   "outputs": [],
   "source": [
    "import logging\n",
    "import sys\n",
    "\n",
    "# Configure the root logger to output messages with INFO level or above\n",
    "logging.basicConfig(level=logging.INFO, stream=sys.stdout, format='%(asctime)s[%(levelname)5s][%(name)14s] - %(message)s',  datefmt='%H:%M:%S', force=True)"
   ]
  },
  {
   "cell_type": "markdown",
   "id": "b72eb606-f634-424f-be79-c1b75b1b1e14",
   "metadata": {},
   "source": [
    "### Install Dependencies"
   ]
  },
  {
   "cell_type": "code",
   "execution_count": null,
   "id": "f7c2e387-9dfc-49c2-8a32-2c54d7eebcc2",
   "metadata": {
    "tags": []
   },
   "outputs": [],
   "source": [
    "! pip install --quiet toolbox-core==0.2.1"
   ]
  },
  {
   "cell_type": "markdown",
   "id": "c945e838-245c-4d19-aafc-0b51282e4fe3",
   "metadata": {},
   "source": [
    "### Define Helper Functions"
   ]
  },
  {
   "cell_type": "markdown",
   "id": "c7c18e2a-3a89-4564-80c0-81a027933586",
   "metadata": {},
   "source": [
    "#### get_auth_token()"
   ]
  },
  {
   "cell_type": "code",
   "execution_count": null,
   "id": "0e18354f-8e30-4515-8aec-533c2a0c9719",
   "metadata": {
    "tags": []
   },
   "outputs": [],
   "source": [
    "import urllib\n",
    "\n",
    "import google.auth.transport.requests\n",
    "import google.oauth2.id_token\n",
    "\n",
    "\n",
    "def get_auth_token(endpoint):\n",
    "    # Cloud Run uses your service's hostname as the `audience` value\n",
    "    # audience = 'https://my-cloud-run-service.run.app/'\n",
    "    # For Cloud Run, `endpoint` is the URL (hostname + path) receiving the request\n",
    "    # endpoint = 'https://my-cloud-run-service.run.app/my/awesome/url'\n",
    "    \n",
    "    auth_req = google.auth.transport.requests.Request()\n",
    "    id_token = google.oauth2.id_token.fetch_id_token(auth_req, endpoint)\n",
    "\n",
    "    return id_token"
   ]
  },
  {
   "cell_type": "markdown",
   "id": "5941ff5a-c2ee-4204-a5ef-8d519ac09b3c",
   "metadata": {},
   "source": [
    "#### OIDC Helpers"
   ]
  },
  {
   "cell_type": "code",
   "execution_count": null,
   "id": "6b59c7a0-dccc-453d-bffa-5369d06189f8",
   "metadata": {},
   "outputs": [],
   "source": [
    "from google.auth.transport.requests import Request\n",
    "from google.oauth2 import id_token\n",
    "from google.cloud import iam_admin_v1\n",
    "from google.cloud import resourcemanager_v3\n",
    "\n",
    "\n",
    "def get_project_number(project_id: str) -> str:\n",
    "    # Create a client for the Resource Manager API.\n",
    "    client = resourcemanager_v3.ProjectsClient()\n",
    "\n",
    "    # Construct the project name resource string.\n",
    "    project_name = f\"projects/{project_id}\"\n",
    "\n",
    "    # Create the request to get the project details.\n",
    "    request = resourcemanager_v3.GetProjectRequest(name=project_name)\n",
    "\n",
    "    # Make the API call to retrieve the project.\n",
    "    project = client.get_project(request=request)\n",
    "\n",
    "    # The project number is a string, not an integer.\n",
    "    return project.name.split('/')[1]\n",
    "\n",
    "\n",
    "def get_service_account_oauth2_client_id(project_id: str, service_account_email: str) -> str:\n",
    "    # Reference: https://cloud.google.com/iap/docs/authentication-howto#python\n",
    "\n",
    "    # Construct the full service account name resource string.\n",
    "    name = f\"projects/{project_id}/serviceAccounts/{service_account_email}\"\n",
    "\n",
    "    # Create the IAM Admin client.\n",
    "    iam_admin_client = iam_admin_v1.IAMClient()\n",
    "\n",
    "    # Prepare the request to get the service account.\n",
    "    request = iam_admin_v1.GetServiceAccountRequest(name=name)\n",
    "\n",
    "    # Make the API call.\n",
    "    service_account = iam_admin_client.get_service_account(request=request)\n",
    "\n",
    "    # Return the oauth2_client_id attribute.\n",
    "    # This will be an empty string if it doesn't exist.\n",
    "    return service_account.oauth2_client_id\n",
    "\n",
    "\n",
    "def get_oidc_token(project_id, service_account_email):\n",
    "    # Reference: https://cloud.google.com/iap/docs/authentication-howto#python\n",
    "    oauth_client_id = get_service_account_oauth2_client_id(project_id, service_account_email)\n",
    "    return id_token.fetch_id_token(Request(), oauth_client_id)\n"
   ]
  },
  {
   "cell_type": "markdown",
   "id": "cd3afe27-5b6a-4c5d-9517-907d0f514543",
   "metadata": {},
   "source": [
    "## Update the MCP Toolbox Toolset\n",
    "\n",
    "The goal of our interactive agent is to be as flexible as possible, so we will use an alloydb_nl tool to flexibly and securely interact with our AlloyDB database. We will also build tools that will allow us to ask questions about account transfers that might be related to fraudulent transactions. "
   ]
  },
  {
   "cell_type": "markdown",
   "id": "56d47f7f-bd73-4fec-a398-35d2252d7474",
   "metadata": {},
   "source": [
    "### Update the `tools.yaml` File\n",
    "\n",
    "Read through the definitions of each tool to understand the purpose of each query."
   ]
  },
  {
   "cell_type": "code",
   "execution_count": null,
   "id": "33cdf40b-a830-4ef8-ac7e-76118828f936",
   "metadata": {
    "tags": []
   },
   "outputs": [],
   "source": [
    "# Reference: https://googleapis.github.io/genai-toolbox/resources/sources/spanner/\n",
    "#            https://googleapis.github.io/genai-toolbox/resources/tools/\n",
    "#            https://googleapis.github.io/genai-toolbox/resources/tools/spanner-sql/\n",
    "#            https://googleapis.github.io/genai-toolbox/resources/sources/alloydb-pg/\n",
    "#            https://googleapis.github.io/genai-toolbox/resources/tools/postgres-sql/\n",
    "\n",
    "import os\n",
    "import json\n",
    "\n",
    "nl_config = \"finance_agent_config\"\n",
    "\n",
    "tools_config = {\n",
    "  \"sources\": {\n",
    "    \"spanner-finance-graph-source\": {\n",
    "      \"kind\": \"spanner\",\n",
    "      \"project\": f\"{project_id}\",\n",
    "      \"instance\": f\"{spanner_instance}\",\n",
    "      \"database\": f\"{spanner_database}\",\n",
    "      \"dialect\": \"googlesql\"\n",
    "    },\n",
    "    \"alloydb-finance-source\": {\n",
    "      \"kind\": \"alloydb-postgres\",\n",
    "      \"project\": f\"{project_id}\",\n",
    "      \"region\": f\"{region}\",\n",
    "      \"cluster\": f\"{alloydb_cluster}\",\n",
    "      \"instance\": f\"{alloydb_instance}\",\n",
    "      \"database\": f\"{alloydb_database}\",\n",
    "      \"user\": \"postgres\",\n",
    "      \"password\": \"${ALLOYDB_PASSWORD}\",\n",
    "      \"ipType\": \"private\"\n",
    "    }\n",
    "  },\n",
    "  \"tools\": {\n",
    "    \"get_loan_repayments\": {\n",
    "      \"kind\": \"spanner-sql\",\n",
    "      \"source\": \"spanner-finance-graph-source\",\n",
    "      \"description\": \"Use this tool to get information about loans paid by customers from accounts they own. The query finds the accounts owned by the customer, and then discover the loans repaid by their accounts\",\n",
    "      \"statement\": \"\"\"\n",
    "        GRAPH FinGraph\n",
    "        MATCH\n",
    "          (person:Person {id: @customer_id})-[own:Owns]->\n",
    "          (account:Account)-[repay:Repays]->(loan:Loan)\n",
    "        RETURN\n",
    "          person.id AS customer_id,\n",
    "          person.name AS customer_name,\n",
    "          account.id AS account_id,\n",
    "          repay.create_time AS repay_time,\n",
    "          repay.amount AS loan_repay_amount,\n",
    "          loan.id AS loan_id,\n",
    "          loan.loan_amount AS loan_amount,\n",
    "          SAFE_TO_JSON(person) AS person_json, \n",
    "          SAFE_TO_JSON(own) AS own_json, \n",
    "          SAFE_TO_JSON(account) AS account_json, \n",
    "          SAFE_TO_JSON(repay) AS repay_json, \n",
    "          SAFE_TO_JSON(loan) AS loan_json\n",
    "        ORDER BY repay.create_time DESC;\n",
    "        \"\"\",\n",
    "      \"parameters\": [\n",
    "        {\n",
    "          \"name\": \"customer_id\",\n",
    "          \"type\": \"integer\",\n",
    "          \"description\": \"Unique customer id number\"\n",
    "        }\n",
    "      ]\n",
    "    },\n",
    "    \"get_indirect_transfers\": {\n",
    "      \"kind\": \"spanner-sql\",\n",
    "      \"source\": \"spanner-finance-graph-source\",\n",
    "      \"description\": \"Use this tool to check if money was moved between multiple accounts on its way from a given source account to a given destination account. The query matches all account money transfers starting from a source account id within 3 to 6 hops, to reach a destination account with another id. The {3,6} syntax is used to represent a quantified 3 to 6 hop path traversal between src_accnt and dst_accnt.\",\n",
    "      \"statement\": \"\"\"\n",
    "        GRAPH FinGraph\n",
    "        MATCH\n",
    "          (src_accnt:Account {id:@source_account_id})-[transfers:Transfers]->{3,6}\n",
    "          (dst_accnt:Account {id:@destination_account_id})\n",
    "        RETURN\n",
    "          ARRAY_LENGTH(transfers) AS num_hops,\n",
    "          src_accnt.type as source_account_type,\n",
    "          src_accnt.is_blocked AS source_is_blocked,\n",
    "          src_accnt.create_time AS source_create_time,\n",
    "          dst_accnt.type as destination_account_type,\n",
    "          dst_accnt.is_blocked AS destination_is_blocked,\n",
    "          dst_accnt.create_time AS destinatoin_create_time,\n",
    "          TO_JSON(transfers) AS transfer_edges;\n",
    "        \"\"\",\n",
    "      \"parameters\": [\n",
    "        {\n",
    "          \"name\": \"source_account_id\",\n",
    "          \"type\": \"integer\",\n",
    "          \"description\": \"Unique account id number for source account\"\n",
    "        },\n",
    "        {\n",
    "          \"name\": \"destination_account_id\",\n",
    "          \"type\": \"integer\",\n",
    "          \"description\": \"Unique account id number for destination account\"\n",
    "        }\n",
    "      ]\n",
    "    },\n",
    "    \"get_account_inflows_outflows\": {\n",
    "      \"kind\": \"spanner-sql\",\n",
    "      \"source\": \"spanner-finance-graph-source\",\n",
    "      \"description\": \"Use this tool to understand the money flow of accounts owned by a specific customer id to look for suspicious large inflows or outflows as part of compliance analysis requirements.\",\n",
    "      \"statement\": \"\"\"\n",
    "        GRAPH FinGraph\n",
    "        MATCH (person:Person {id: @customer_id})-[:Owns]->(accnt:Account)\n",
    "        RETURN person, accnt\n",
    "\n",
    "        NEXT\n",
    "\n",
    "        MATCH (accnt)<-[inflow:Transfers]-(:Account)\n",
    "        WHERE inflow.amount > 100\n",
    "          AND inflow.create_time > TIMESTAMP(\"2020-1-1\")\n",
    "        RETURN person, accnt, SUM(inflow.amount) AS total_inflow_amounts\n",
    "        GROUP BY person, accnt\n",
    "\n",
    "        NEXT\n",
    "\n",
    "        MATCH (accnt) -[outflow:Transfers]->(:Account)\n",
    "        WHERE outflow.amount > 100\n",
    "          AND outflow.create_time > TIMESTAMP(\"2020-1-1\")\n",
    "        RETURN person, accnt, total_inflow_amounts, SUM(outflow.amount) AS total_outflow_amounts\n",
    "        GROUP BY person, accnt, total_inflow_amounts\n",
    "\n",
    "        NEXT\n",
    "\n",
    "        LET money_flow_ratio = total_inflow_amounts / total_outflow_amounts\n",
    "        RETURN \n",
    "          person.name AS customer_name,\n",
    "          person.id AS customer_id,\n",
    "          accnt.id AS account_id, \n",
    "          accnt.type AS account_type,\n",
    "          accnt.is_blocked,\n",
    "          total_inflow_amounts, \n",
    "          total_outflow_amounts,\n",
    "          money_flow_ratio\n",
    "        ORDER BY money_flow_ratio DESC;\n",
    "        \"\"\",\n",
    "      \"parameters\": [\n",
    "        {\n",
    "          \"name\": \"customer_id\",\n",
    "          \"type\": \"integer\",\n",
    "          \"description\": \"Unique customer id number\"\n",
    "        }\n",
    "      ]\n",
    "    },\n",
    "    \"get_destination_account_audit_events\": {\n",
    "      \"kind\": \"spanner-sql\",\n",
    "      \"source\": \"spanner-finance-graph-source\",\n",
    "      \"description\": \"Use this tool to find audit events of reached destination accounts that have received wire transfers from a suspicious account.\",\n",
    "      \"statement\": \"\"\"\n",
    "        SELECT\n",
    "          audit.id as accnt_id,\n",
    "          audit.audit_timestamp as audit_ts,\n",
    "          audit.audit_details as details,\n",
    "          accnt_transfers.*\n",
    "        FROM\n",
    "          AccountAudits audit,\n",
    "          GRAPH_TABLE(\n",
    "            FinGraph\n",
    "            MATCH (suspicious_account:Account {id:@suspicious_account_id})-[:Transfers]->{1,2}(dest_accnt)\n",
    "            RETURN DISTINCT dest_accnt.id AS reached_account_id, \n",
    "              dest_accnt.type AS reached_account_type, \n",
    "              dest_accnt.is_blocked AS reached_account_is_blocked, \n",
    "              dest_accnt.create_time AS reached_account_create_time,\n",
    "              suspicious_account.type AS suspicious_account_type, \n",
    "              suspicious_account.is_blocked AS suspicious_account_is_blocked, \n",
    "              suspicious_account.create_time AS suspicious_account_create_time\n",
    "          ) AS accnt_transfers\n",
    "        WHERE accnt_transfers.reached_account_id = audit.id\n",
    "        ORDER BY audit_ts DESC\n",
    "        \"\"\",\n",
    "      \"parameters\": [\n",
    "        {\n",
    "          \"name\": \"suspicious_account_id\",\n",
    "          \"type\": \"integer\",\n",
    "          \"description\": \"Unique account id number for an account with suspicious activity\"\n",
    "        }\n",
    "      ]\n",
    "    },\n",
    "    \"get_finance_database_context\": {\n",
    "      \"kind\": \"alloydb-ai-nl\",\n",
    "      \"source\": \"alloydb-finance-source\",\n",
    "      \"description\": \"Use this tool to look up information about financial transactions, credit cards, customers, mcc codes, and historical fraud labels.\",\n",
    "      \"nlConfig\": f\"{nl_config}\"\n",
    "    }\n",
    "  },\n",
    "  \"toolsets\": {\n",
    "    \"interactive-tools\": [\n",
    "      \"get_loan_repayments\",\n",
    "      \"get_indirect_transfers\",\n",
    "      \"get_account_inflows_outflows\",\n",
    "      \"get_destination_account_audit_events\",\n",
    "      \"get_finance_database_context\"\n",
    "    ]\n",
    "  }\n",
    "}\n",
    "\n",
    "with open(\"tools.yaml\", \"w\") as file:\n",
    "    file.write(json.dumps(tools_config))\n"
   ]
  },
  {
   "cell_type": "markdown",
   "id": "49f03345-1c8a-4fbf-802a-4f802ceb8625",
   "metadata": {},
   "source": [
    "### Write Updated `tools.yaml` to Secret Manager"
   ]
  },
  {
   "cell_type": "code",
   "execution_count": null,
   "id": "d6f042ee-03ce-416f-80d6-092bcc30ad8e",
   "metadata": {
    "tags": []
   },
   "outputs": [],
   "source": [
    "# Create the secret\n",
    "! gcloud secrets versions add tools --data-file=tools.yaml"
   ]
  },
  {
   "cell_type": "code",
   "execution_count": null,
   "id": "57700beb-400c-4e29-9f8c-09bd78e99963",
   "metadata": {
    "tags": []
   },
   "outputs": [],
   "source": [
    "# Clean up the local file\n",
    "import os\n",
    "os.remove('tools.yaml')"
   ]
  },
  {
   "cell_type": "markdown",
   "id": "b6fc5e84-0c97-4759-b5d3-f6dd685dffaa",
   "metadata": {},
   "source": [
    "### Update Toolbox with New `tools.yaml` File"
   ]
  },
  {
   "cell_type": "code",
   "execution_count": null,
   "id": "82620662-6022-47c9-ab67-842a5aaf3365",
   "metadata": {
    "tags": []
   },
   "outputs": [],
   "source": [
    "# Reference: https://cloud.google.com/sdk/gcloud/reference/run/services/update\n",
    "\n",
    "! gcloud run services update toolbox --no-user-output-enabled \\\n",
    "    --update-secrets=\"/app/tools.yaml=tools:latest,ALLOYDB_PASSWORD=alloydb-password:latest\" \\\n",
    "    --region={region}\n",
    "    "
   ]
  },
  {
   "cell_type": "markdown",
   "id": "ff67ead6-1d61-4349-9730-bc52c5c60ca8",
   "metadata": {},
   "source": [
    "### Redeploy Toolbox with IAP"
   ]
  },
  {
   "cell_type": "code",
   "execution_count": null,
   "id": "429a824e-3c79-4e49-b218-4d9e250dab29",
   "metadata": {
    "tags": []
   },
   "outputs": [],
   "source": [
    "# Define Toolbox Container Image\n",
    "image = 'us-central1-docker.pkg.dev/database-toolbox/toolbox/toolbox:latest'\n",
    "\n",
    "# Deploy to Cloud Run\n",
    "! gcloud beta run deploy toolbox --no-user-output-enabled \\\n",
    "    --image={image} \\\n",
    "    --network={vpc} \\\n",
    "    --subnet={vpc} \\\n",
    "    --network-tags=toolbox \\\n",
    "    --service-account=toolbox-identity \\\n",
    "    --region={region} \\\n",
    "    --allow-unauthenticated \\\n",
    "    --set-secrets=\"/app/tools.yaml=tools:latest,ALLOYDB_PASSWORD=alloydb-password:latest\" \\\n",
    "    --args=\"--tools-file=/app/tools.yaml\",\"--address=0.0.0.0\",\"--port=8080\",\"--telemetry-gcp\" \\\n",
    "    --vpc-egress=all-traffic \\\n",
    "    --ingress=internal \\\n",
    "    --min=1 \\\n",
    "    --iap\n"
   ]
  },
  {
   "cell_type": "markdown",
   "id": "7adf4f8d-c2a2-4ea1-8ae4-b2d2712e840f",
   "metadata": {},
   "source": [
    "### Test Tools\n",
    "\n",
    "Since we now have a more complex set of tools that require various parameters, we'll define a list of tools and the parameters we should call for each one, then we'll iterate through each one using the `load_tool()` function to get and test specific tools. "
   ]
  },
  {
   "cell_type": "code",
   "execution_count": null,
   "id": "d0a7b514-0957-4f9a-b2f8-efc252a928c0",
   "metadata": {
    "tags": []
   },
   "outputs": [],
   "source": [
    "import json\n",
    "import toolbox_core\n",
    "from toolbox_core import ToolboxClient, auth_methods\n",
    "\n",
    "# Get endpoint\n",
    "toolbox_url = ! gcloud run services describe toolbox --region {region} --format 'value(metadata.annotations.\"run.googleapis.com/urls\")'\n",
    "toolbox_url = json.loads(toolbox_url[0])[0]\n",
    "print(f\"Toolbox Cloud Run endpoint: {toolbox_url}\")\n",
    "\n",
    "# Refresh auth_token\n",
    "def get_auth_token(endpoint):\n",
    "    # Cloud Run uses your service's hostname as the `audience` value\n",
    "    # audience = 'https://my-cloud-run-service.run.app/'\n",
    "    # For Cloud Run, `endpoint` is the URL (hostname + path) receiving the request\n",
    "    # endpoint = 'https://my-cloud-run-service.run.app/my/awesome/url'\n",
    "    \n",
    "    auth_req = google.auth.transport.requests.Request()\n",
    "    id_token = google.oauth2.id_token.fetch_id_token(auth_req, f\"{endpoint}\")\n",
    "\n",
    "    return id_token\n",
    "\n",
    "auth_token = get_auth_token(toolbox_url)\n",
    "auth_token_provider = auth_methods.aget_google_id_token # can also use sync method\n",
    "\n",
    "# Define tools to test and arguments\n",
    "tools_to_test = [\n",
    "    {\n",
    "        \"tool\": \"get_loan_repayments\",\n",
    "        \"params\": {\n",
    "            \"customer_id\": 263\n",
    "        }\n",
    "    },\n",
    "    {\n",
    "        \"tool\": \"get_indirect_transfers\",\n",
    "        \"params\": {\n",
    "            \"source_account_id\": 75,\n",
    "            \"destination_account_id\": 199\n",
    "        }\n",
    "    },\n",
    "    {\n",
    "        \"tool\": \"get_account_inflows_outflows\",\n",
    "        \"params\": {\n",
    "            \"customer_id\": 330\n",
    "        }\n",
    "    },\n",
    "    {\n",
    "        \"tool\": \"get_destination_account_audit_events\",\n",
    "        \"params\": {\n",
    "            \"suspicious_account_id\": 11\n",
    "        }\n",
    "    },\n",
    "    {\n",
    "        \"tool\": \"get_finance_database_context\",\n",
    "        \"params\": \"How many users are in the database?\"\n",
    "    }\n",
    "]\n",
    "\n",
    "# Run tools \n",
    "async with ToolboxClient(\n",
    "    toolbox_url,\n",
    "    client_headers={\"Authorization\": f\"Bearer {auth_token}\"},\n",
    ") as client:\n",
    "    for t in tools_to_test:\n",
    "        print(f\"\\n\\nTesting tool: { t.get('tool') }, with Params: { t.get('params') }\")\n",
    "        tool = await client.load_tool(t.get('tool'))\n",
    "        params = t.get('params')\n",
    "        if isinstance(params, dict):\n",
    "            result = await tool(**params)\n",
    "        else:\n",
    "            result = await tool(params)\n",
    "\n",
    "        json_result = json.loads(result)\n",
    "        print(\"\\nTool result:\")\n",
    "        print(json.dumps(json_result, indent=2))\n",
    "    \n"
   ]
  },
  {
   "cell_type": "markdown",
   "id": "405b5388-6e91-40ba-8a24-955343a22fae",
   "metadata": {},
   "source": [
    "## Deploy the Interactive ADK Agent\n",
    "\n",
    "This process is the same as the agent we configured in notebook 3, but this time we exposing the service to public IP traffic and protecting it with [Identity-Aware Proxy](https://cloud.google.com/iap/docs/enabling-cloud-run). We'll also update the agent to use the new `interactive-tools` toolset that we just deployed to MCP Toolbox.\n",
    "\n",
    "References:\n",
    "- https://github.com/alphinside/deploy-and-manage-adk-service/tree/main/weather_agent\n",
    "- https://codelabs.developers.google.com/deploy-manage-observe-adk-cloud-run#1"
   ]
  },
  {
   "cell_type": "markdown",
   "id": "4426c855-01e8-459b-afc5-727a8c7a9e7f",
   "metadata": {},
   "source": [
    "### Use Cloud SQL for Session Persistence\n",
    "\n",
    "The Agent Development Kit (ADK) uses a Session Service to maintain the state of conversations. By default, it uses an in-memory session service, but this is not suitable for production environments where the server may restart, and sessions would be lost. To ensure persistence, we can connect the ADK to a Cloud SQL database to act as the persistent store for the Session service."
   ]
  },
  {
   "cell_type": "markdown",
   "id": "01e572e0-a2a1-4fee-acaa-5cf3c00ce0e3",
   "metadata": {},
   "source": [
    "### Create `__init__.py`"
   ]
  },
  {
   "cell_type": "code",
   "execution_count": null,
   "id": "7297e56b-4c2d-4674-96d9-5f7190499573",
   "metadata": {
    "tags": []
   },
   "outputs": [],
   "source": [
    "# Initialize the agent directory\n",
    "! mkdir -p deploy\n",
    "! mkdir -p deploy/finance_agent"
   ]
  },
  {
   "cell_type": "code",
   "execution_count": null,
   "id": "c6fa9c56-8fd9-4300-9065-e129f0dcfc2d",
   "metadata": {
    "tags": []
   },
   "outputs": [],
   "source": [
    "%%writefile deploy/finance_agent/__init__.py\n",
    "# __init__.py\n",
    "\n",
    "from .agent import root_agent\n",
    "\n",
    "__all__ = [\"root_agent\"]"
   ]
  },
  {
   "cell_type": "markdown",
   "id": "aebd33e4-438f-4ea2-ae87-a5ed946a0497",
   "metadata": {},
   "source": [
    "### Create `agent.py`"
   ]
  },
  {
   "cell_type": "code",
   "execution_count": null,
   "id": "4a451c5e-b02e-47f7-8c0f-c2a86013b0db",
   "metadata": {
    "tags": []
   },
   "outputs": [],
   "source": [
    "%%writefile deploy/finance_agent/agent.py\n",
    "import os\n",
    "import google.auth\n",
    "import google.auth.transport.requests\n",
    "import google.oauth2.id_token\n",
    "from google.adk.agents import Agent\n",
    "from toolbox_core import ToolboxSyncClient\n",
    "from opentelemetry.instrumentation.aiohttp_client import (AioHttpClientInstrumentor)\n",
    "\n",
    "\n",
    "def get_auth_token(endpoint: str) -> str:\n",
    "    \"\"\"Fetches an OIDC token for authenticating with a Cloud Run service.\"\"\"\n",
    "    auth_req = google.auth.transport.requests.Request()\n",
    "    return google.oauth2.id_token.fetch_id_token(auth_req, endpoint)\n",
    "\n",
    "# The URL for the toolbox service should be passed as an environment variable\n",
    "# for better flexibility between different environments (dev, prod).\n",
    "TOOLBOX_URL = os.getenv(\"TOOLBOX_URL\")\n",
    "if not TOOLBOX_URL:\n",
    "    raise ValueError(\"TOOLBOX_URL environment variable not set.\")\n",
    "\n",
    "# Get an auth token to invoke the Toolbox on Cloud Run\n",
    "auth_token = get_auth_token(TOOLBOX_URL)\n",
    "\n",
    "# Initialize the Toolbox client once and reuse it\n",
    "print(f\"Connecting to toolbox server at {TOOLBOX_URL}\")\n",
    "toolbox_client = ToolboxSyncClient(\n",
    "    TOOLBOX_URL,\n",
    "    client_headers={\"Authorization\": f\"Bearer {auth_token}\"}\n",
    ")\n",
    "\n",
    "# Define the agent's instructions\n",
    "prompt = \"\"\"\n",
    "You're a helpful financial assistant. You handle fraud detection tasks, transaction lookups,\n",
    "account details, loan payments, account transfers,suspicious activity reports, and other tasks \n",
    "related to financial data.\n",
    "\"\"\"\n",
    "\n",
    "# Define the root agent\n",
    "root_agent = Agent(\n",
    "    model='gemini-2.5-flash',\n",
    "    name='interactive_finance_agent',\n",
    "    description='A helpful AI assistant for financial tasks.',\n",
    "    instruction=prompt,\n",
    "    # Load the tools from your MCP Toolbox\n",
    "    tools=toolbox_client.load_toolset(\"interactive-tools\"),\n",
    ")\n",
    "\n",
    "# Enable the AioHttp library for Toolbox tracing\n",
    "AioHttpClientInstrumentor().instrument()"
   ]
  },
  {
   "cell_type": "markdown",
   "id": "ff8251c9-c9c6-46fa-8005-29478e8c459b",
   "metadata": {},
   "source": [
    "### Create `server.py`"
   ]
  },
  {
   "cell_type": "code",
   "execution_count": null,
   "id": "fdc4d0bb-7a3a-42e9-936a-c90d89c70795",
   "metadata": {
    "tags": []
   },
   "outputs": [],
   "source": [
    "%%writefile deploy/server.py\n",
    "import os\n",
    "from fastapi import FastAPI\n",
    "from google.adk.cli.fast_api import get_fast_api_app\n",
    "from google.cloud import logging as google_cloud_logging\n",
    "\n",
    "# OTEL imports\n",
    "from opentelemetry import trace\n",
    "from opentelemetry.sdk.trace import TracerProvider, export\n",
    "from opentelemetry.propagate import set_global_textmap\n",
    "from opentelemetry.propagators.cloud_trace_propagator import CloudTraceFormatPropagator\n",
    "from opentelemetry.exporter.cloud_trace import CloudTraceSpanExporter\n",
    "\n",
    "# Initialize the Google Cloud Logging client\n",
    "logging_client = google_cloud_logging.Client()\n",
    "logger = logging_client.logger(__name__)\n",
    "\n",
    "# The directory where your agent.py and __init__.py are located\n",
    "AGENT_DIR = os.path.dirname(os.path.abspath(__file__))\n",
    "\n",
    "# Get the session service URI from environment variables.\n",
    "# This is where you'll provide the connection string for Cloud SQL.\n",
    "session_uri = os.getenv(\"SESSION_SERVICE_URI\")\n",
    "\n",
    "# Prepare arguments for the FastAPI app\n",
    "app_args = {\"agents_dir\": AGENT_DIR, \"web\": True}\n",
    "\n",
    "# Use the Cloud SQL session service if the URI is provided\n",
    "if session_uri:\n",
    "    app_args[\"session_service_uri\"] = session_uri\n",
    "    logger.log_text(f\"Using database session service.\", severity=\"INFO\")\n",
    "else:\n",
    "    logger.log_text(\n",
    "        \"SESSION_SERVICE_URI not provided. Using in-memory session service. \"\n",
    "        \"Sessions will be lost on server restart.\",\n",
    "        severity=\"WARNING\",\n",
    "    )\n",
    "    \n",
    "# Observability\n",
    "provider = TracerProvider()\n",
    "processor = export.BatchSpanProcessor(CloudTraceSpanExporter())\n",
    "provider.add_span_processor(processor)\n",
    "trace.set_tracer_provider(provider)\n",
    "print(\"Set trace provider\")\n",
    "\n",
    "# Create the FastAPI app using the ADK utility\n",
    "app: FastAPI = get_fast_api_app(**app_args)\n",
    "\n",
    "app.title = \"finance-agent\"\n",
    "app.description = \"API for interacting with the ADK Finance Agent\"\n",
    "\n",
    "# Main execution\n",
    "if __name__ == \"__main__\":\n",
    "    import uvicorn\n",
    "    \n",
    "    # Enable the AioHttp library for Toolbox tracing\n",
    "    AioHttpClientInstrumentor().instrument()\n",
    "\n",
    "    # Instrument the FastAPI app.\n",
    "    # This automatically creates parent spans for requests and propagates the trace context.\n",
    "    FastAPIInstrumentor.instrument_app(app)\n",
    "\n",
    "    uvicorn.run(app, host=\"0.0.0.0\", port=8080)\n",
    "    \n",
    "    "
   ]
  },
  {
   "cell_type": "markdown",
   "id": "a98f4c55-72dc-4068-8338-28d17a3ce239",
   "metadata": {},
   "source": [
    "### Create `pyproject.toml`"
   ]
  },
  {
   "cell_type": "code",
   "execution_count": null,
   "id": "6f1c5090-9c6a-46ea-bdda-415973780fdc",
   "metadata": {
    "tags": []
   },
   "outputs": [],
   "source": [
    "%%writefile deploy/pyproject.toml\n",
    "[project]\n",
    "name = \"deploy-and-manage-adk-service\"\n",
    "version = \"0.1.0\"\n",
    "description = \"Add your description here\"\n",
    "readme = \"README.md\"\n",
    "requires-python = \">=3.12\"\n",
    "dependencies = [\n",
    "    \"google-adk==1.5.0\",\n",
    "    \"locust==2.37.10\",\n",
    "    \"pg8000==1.31.2\",\n",
    "    \"python-dotenv==1.1.0\",\n",
    "    \"toolbox-core==0.2.1\",\n",
    "    \"google-genai==1.23.0\",\n",
    "    \"opentelemetry-instrumentation-fastapi==0.55b1\",\n",
    "    \"opentelemetry-api>=1.20.0\",\n",
    "    \"opentelemetry-sdk>=1.20.0\",\n",
    "    \"opentelemetry-instrumentation-fastapi>=0.40.0\",\n",
    "    \"opentelemetry-exporter-gcp-trace>=1.9.0\",\n",
    "    \"opentelemetry-propagator-gcp==1.9.0\",\n",
    "    \"opentelemetry-exporter-gcp-monitoring==1.9.0a0\",\n",
    "    \"opentelemetry-exporter-otlp\",\n",
    "    \"opentelemetry-instrumentation-requests==0.55b1\",\n",
    "    \"opentelemetry-instrumentation-aiohttp-client\"\n",
    "]\n",
    "\n",
    "[dependency-groups]\n",
    "dev = [\n",
    "    \"pytest==8.4.0\",\n",
    "    \"ruff==0.11.13\",\n",
    "]"
   ]
  },
  {
   "cell_type": "markdown",
   "id": "35422840-76f5-4aa7-9444-a7b7c7ae4886",
   "metadata": {
    "tags": []
   },
   "source": [
    "### Create a Dockerfile"
   ]
  },
  {
   "cell_type": "code",
   "execution_count": null,
   "id": "1df20ec5-a8f9-4d11-ad7f-368bfbebeeca",
   "metadata": {
    "tags": []
   },
   "outputs": [],
   "source": [
    "%%writefile deploy/Dockerfile\n",
    "FROM python:3.12-slim\n",
    "RUN pip install --no-cache-dir uv==0.7.13\n",
    "WORKDIR /app\n",
    "COPY . .\n",
    "RUN uv sync\n",
    "EXPOSE 8080\n",
    "CMD [\"uv\", \"run\", \"uvicorn\", \"server:app\", \"--host\", \"0.0.0.0\", \"--port\", \"8080\"]\n"
   ]
  },
  {
   "cell_type": "markdown",
   "id": "057ab465-1105-4ee3-9b84-52f0f96d4b8f",
   "metadata": {},
   "source": [
    "### Deploy the Agent to Cloud Run\n",
    "\n",
    "Since this Cloud Run service interacts with databases, we want to be mindful of security best practices during deployment. Specifically:\n",
    "- We provision the Cloud Run instnace in the `demo-vpc` private VPC so that it interacts with the MCP Toolbox and the Cloud SQL instance securely over the VPC.\n",
    "- We set `--ingress=all` and `--no-allow-unauthenticated` this time so that we can access the interactive ADK UI. We will secure this connection with IAP.\n",
    "- We use Secret Manager to securely store our MCP Toolbox tool definitions and our AlloyDB password, and we securely import those secrets into Cloud Run using `--set-secrets=\"/app/tools.yaml=tools:latest,ALLOYDB_PASSWORD=alloydb-password:latest\"`\n",
    "- We leverage private DNS resolution and Google Private Access (which we setup in notebook 3) for secure communication between the Agent and MCP Toolbox Cloud Run services."
   ]
  },
  {
   "cell_type": "code",
   "execution_count": null,
   "id": "b314cbb1-3a2c-428b-8771-9f0141cdcc65",
   "metadata": {
    "tags": []
   },
   "outputs": [],
   "source": [
    "# Get the MCP Toolbox endpoint\n",
    "toolbox_url = ! gcloud run services describe toolbox --region {region} --format 'value(metadata.annotations.\"run.googleapis.com/urls\")'\n",
    "toolbox_url = json.loads(toolbox_url[0])[0]\n",
    "print(f\"Toolbox Cloud Run endpoint: {toolbox_url}\")\n",
    "\n",
    "# Get Cloud SQL connection name\n",
    "cloud_sql_psc_ip = !gcloud compute forwarding-rules describe psc-forwarding-rule-{cloud_sql_instance} \\\n",
    "    --region={region} \\\n",
    "    --project={project_id} \\\n",
    "    --format=\"value(IPAddress)\"\n",
    "cloud_sql_psc_ip = cloud_sql_psc_ip[0]\n",
    "\n",
    "# Construct the SESSION_SERVICE_URI\n",
    "session_service_uri = f\"postgresql+pg8000://postgres:{cloud_sql_password}@{cloud_sql_psc_ip}:5432/postgres\"\n",
    "\n",
    "print(f\"SESSION_SERVICE_URI: {session_service_uri}\")\n",
    "\n",
    "!gcloud beta run deploy finance-agent --quiet --no-user-output-enabled \\\n",
    "    --source ./deploy/ \\\n",
    "    --network={vpc} \\\n",
    "    --subnet={vpc} \\\n",
    "    --ingress=all \\\n",
    "    --port 8080 \\\n",
    "    --project {project_id} \\\n",
    "    --region {region} \\\n",
    "    --allow-unauthenticated \\\n",
    "    --update-env-vars=TOOLBOX_URL={toolbox_url},GOOGLE_GENAI_USE_VERTEXAI=True,SESSION_SERVICE_URI={session_service_uri},GOOGLE_CLOUD_PROJECT={project_id},GOOGLE_CLOUD_LOCATION={region},GCS_BUCKET_NAME={gcs_bucket_name} \\\n",
    "    --min=1 \\\n",
    "    --memory=1Gi \\\n",
    "    --iap"
   ]
  },
  {
   "cell_type": "markdown",
   "id": "8e59abee-f58a-4f2d-a608-46beb5a05d4c",
   "metadata": {},
   "source": [
    "### Grant finance-agent Invoke Permissions on toolbox"
   ]
  },
  {
   "cell_type": "code",
   "execution_count": null,
   "id": "4a42e467-219d-48f4-adab-f4ca9a7da356",
   "metadata": {
    "tags": []
   },
   "outputs": [],
   "source": [
    "# Get account finance-agent service account\n",
    "service_account = !gcloud run services describe finance-agent \\\n",
    "    --region={region} \\\n",
    "    --format=\"value(spec.template.spec.serviceAccountName)\"\n",
    "service_account = service_account[0]"
   ]
  },
  {
   "cell_type": "code",
   "execution_count": null,
   "id": "1dd906af-8fa4-42fd-9901-3079d8334094",
   "metadata": {
    "tags": []
   },
   "outputs": [],
   "source": [
    "# Grant service account invoke permissions on toolbox\n",
    "!gcloud run services add-iam-policy-binding toolbox --region={region} \\\n",
    "    --member=serviceAccount:{service_account} \\\n",
    "    --role=\"roles/run.invoker\""
   ]
  },
  {
   "cell_type": "markdown",
   "id": "2ee0a90a-d8c7-41f8-9ed6-963ab4df48c4",
   "metadata": {},
   "source": [
    "## Enable Identity-Aware Proxy (IAP)\n",
    "\n",
    "We previously restricted non-private ingress traffic on our ADK Agent hosted on Cloud Run. This is a great security practice for autonomous agents that are triggered by an event and take automated actions on your behalf. For interactive agents, however, it is useful to provide a friendly UI for Agent interactions, and the ADK framework provides a built-in UI specifically for this purpose. To make this UI available without sacrificing our security posture, we will enable IAP to prevent unauthorized access to the Agent, while allowing authorized individuals to safely connect. \n",
    "\n",
    "Reference: \n",
    "- https://cloud.google.com/iap/docs/enabling-cloud-run"
   ]
  },
  {
   "cell_type": "markdown",
   "id": "b83a920d-aa64-4640-b950-7f852a141fba",
   "metadata": {
    "tags": []
   },
   "source": [
    "### Setup IAP"
   ]
  },
  {
   "cell_type": "code",
   "execution_count": null,
   "id": "87d854ee-7183-4744-802c-ced96af71fa5",
   "metadata": {
    "tags": []
   },
   "outputs": [],
   "source": [
    "# Create the IAP service agent by running the following command\n",
    "!gcloud beta services identity create --service=iap.googleapis.com --project={project_id}"
   ]
  },
  {
   "cell_type": "code",
   "execution_count": null,
   "id": "2d8cbd45-1088-4ec2-bc3b-39a8c7e58fdb",
   "metadata": {
    "tags": []
   },
   "outputs": [],
   "source": [
    "# Get project number\n",
    "project_number = ! gcloud projects describe {project_id} --format='value(projectNumber)'\n",
    "project_number = project_number[0]\n",
    "\n",
    "# Grant the invoker permission to the service account\n",
    "!gcloud run services add-iam-policy-binding finance-agent \\\n",
    "    --member='serviceAccount:service-{project_number}@gcp-sa-iap.iam.gserviceaccount.com'  \\\n",
    "    --role='roles/run.invoker' \\\n",
    "    --region={region}"
   ]
  },
  {
   "cell_type": "markdown",
   "id": "a487e124-c2f5-41a8-92c5-e0a1959e139c",
   "metadata": {
    "tags": []
   },
   "source": [
    "### Enable IAP on the ADK Agent Cloud Run Service"
   ]
  },
  {
   "cell_type": "code",
   "execution_count": null,
   "id": "379bba2d-dc8a-4cb3-a5d0-f0c12835a70f",
   "metadata": {
    "tags": []
   },
   "outputs": [],
   "source": [
    "!gcloud beta run services update finance-agent \\\n",
    "    --quiet \\\n",
    "    --no-user-output-enabled \\\n",
    "    --region={region} \\\n",
    "    --iap"
   ]
  },
  {
   "cell_type": "markdown",
   "id": "0495555e-2d17-4960-9ffd-c5ce52d1a961",
   "metadata": {},
   "source": [
    "## Test the Agent"
   ]
  },
  {
   "cell_type": "markdown",
   "id": "a3643031-6151-4d43-ade5-8c79e2925082",
   "metadata": {},
   "source": [
    "### Trying Accessing the Web UI\n",
    "\n",
    "Run the cell below to get your web UI URL, and try to access it. Login with your student account when prompted to login. You will get an error saying \"You don't have access.\" This is expected. We'll add permissions in the next cell."
   ]
  },
  {
   "cell_type": "code",
   "execution_count": null,
   "id": "bbac52db-9aa9-4137-a599-15e347c137a5",
   "metadata": {
    "tags": []
   },
   "outputs": [],
   "source": [
    "# Retrieve the Web UI URL\n",
    "agent_url = !gcloud run services describe finance-agent --region {region} --format 'value(status.url)'\n",
    "agent_url = agent_url[0]\n",
    "print(agent_url)"
   ]
  },
  {
   "cell_type": "markdown",
   "id": "ce2688ee-9bdc-4e87-9290-2c7c2c8e169c",
   "metadata": {},
   "source": [
    "### Add IAP Permissions\n",
    "\n",
    "Next, we'll add permissions for your student account so that you can securely access the Web UI."
   ]
  },
  {
   "cell_type": "code",
   "execution_count": null,
   "id": "44c1d0fc-c888-4426-9869-ca7ab7be4710",
   "metadata": {
    "tags": []
   },
   "outputs": [],
   "source": [
    "# Replace the variable value for student_email below with your student email address.\n",
    "student_email = \"admin@paulramsey.altostrat.com\""
   ]
  },
  {
   "cell_type": "code",
   "execution_count": null,
   "id": "09c7d7c8-52d2-42b8-839a-d5bf89c89bbe",
   "metadata": {
    "tags": []
   },
   "outputs": [],
   "source": [
    "# Add IAP access to the ADK Cloud Run service for your student account\n",
    "!gcloud beta iap web add-iam-policy-binding \\\n",
    "    --member=user:{student_email} \\\n",
    "    --role=roles/iap.httpsResourceAccessor \\\n",
    "    --region={region} \\\n",
    "    --resource-type=cloud-run \\\n",
    "    --service=finance-agent\n",
    "\n",
    "# Add IAP access to the Toolbox Cloud Run service for your student account\n",
    "!gcloud beta iap web add-iam-policy-binding \\\n",
    "    --member=user:{student_email} \\\n",
    "    --role=roles/iap.httpsResourceAccessor \\\n",
    "    --region={region} \\\n",
    "    --resource-type=cloud-run \\\n",
    "    --service=toolbox"
   ]
  },
  {
   "cell_type": "code",
   "execution_count": null,
   "id": "13cce1f9-7752-491a-adcc-15f0aacfa134",
   "metadata": {
    "tags": []
   },
   "outputs": [],
   "source": [
    "# Get the service account running the finance-agent Cloud Run service\n",
    "adk_service_account = !gcloud run services describe finance-agent \\\n",
    "    --region={region} \\\n",
    "    --format=\"value(spec.template.spec.serviceAccountName)\"\n",
    "adk_service_account = adk_service_account[0]\n",
    "print(f\"ADK Service Account: {adk_service_account}\")\n",
    "\n",
    "# Get the service account running the toolbox Cloud Run service\n",
    "toolbox_service_account = !gcloud run services describe toolbox \\\n",
    "    --region={region} \\\n",
    "    --format=\"value(spec.template.spec.serviceAccountName)\"\n",
    "toolbox_service_account = f\"{toolbox_service_account[0]}@{project_id}.iam.gserviceaccount.com\"\n",
    "print(f\"Toolbox Service Account: {toolbox_service_account}\")\n",
    "\n",
    "# Dev notes:\n",
    "# Added student email access to Web UI. Could access the UI, but got a 401 error when ADK tried to call a tool.\n",
    "# Enabled IAP on toolbox service and granted student email access to toolbox as well. Still got a 401 on tool calls. \n",
    "# Disabled IAP on toolbox service. Still got a 401 on tool calls. \n",
    "# Configured the Oauth IAP Screen. Works now. "
   ]
  },
  {
   "cell_type": "code",
   "execution_count": null,
   "id": "4021fe06-861d-404f-ae53-60bbc82d3b33",
   "metadata": {
    "tags": []
   },
   "outputs": [],
   "source": [
    "# Give ADK service account IAP access to the toolbox service account\n",
    "# This cell may not be necessary\n",
    "!gcloud beta iap web add-iam-policy-binding \\\n",
    "    --member=serviceAccount:{adk_service_account} \\\n",
    "    --role=roles/iap.httpsResourceAccessor \\\n",
    "    --region={region} \\\n",
    "    --resource-type=cloud-run \\\n",
    "    --service=toolbox\n",
    "\n",
    "# Give Toolbox service acconut IAP access to the ADK service account\n",
    "!gcloud beta iap web add-iam-policy-binding \\\n",
    "    --member=serviceAccount:{toolbox_service_account} \\\n",
    "    --role=roles/iap.httpsResourceAccessor \\\n",
    "    --region={region} \\\n",
    "    --resource-type=cloud-run \\\n",
    "    --service=finance-agent\n"
   ]
  },
  {
   "cell_type": "markdown",
   "id": "7408a63a-2ce0-4e94-8173-d3884f7918dd",
   "metadata": {},
   "source": [
    "### Navigate the UI\n",
    "\n",
    "Now wait for a little over a minute and try access the UI again. This time you should see an interface like the screenshot below.\n",
    "\n",
    "![ADK UI](img/adk-ui/adk-ui.png)\n",
    "\n",
    "Try asking the Agent questions to help you with investigating fraud reports. Here are some examples you might try:\n",
    "\n",
    "> NOTE: If you see errors like the following, try again. These tend to be transient issues. `{\"error\": \"401, message='Attempt to decode JSON with unexpected mimetype: text/html; charset=utf-8', url='https://toolbox-123456789098.us-central1.run.app/api/tool/get_loan_repayments/invoke'\"}`\n",
    "\n",
    "#### Scenario 1: Investigating a Customer's Loan Repayments\n",
    "This conversation flow utilizes the Spanner `get_loan_repayments` tool to investigate a customer's financial history.\n",
    "\n",
    "- Initial User Question: \"Can you show me the loan repayment history for customer ID 263?\"\n",
    "- Follow-up Question 1: \"Thanks. Can you tell me the total amount of the loans this customer has repaid?\"\n",
    "- Follow-up Question 2: \"Which account was used for the most recent repayment, and what was the date of that transaction?\"\n",
    "- Follow-up Question 3: \"Based on the data, what is the largest single loan amount this customer has taken out?\"\n",
    "\n",
    "#### Scenario 2: Analyzing Suspicious Account Activity\n",
    "This exchange uses the Spanner `get_account_inflows_outflows` tool to analyze the movement of money.\n",
    "\n",
    "- Initial User Question: \"I need to analyze the account activity for customer 330. Can you get the total inflows and outflows for their accounts?\"\n",
    "- Follow-up Question 1: \"Which of their accounts has the highest ratio of inflows to outflows?\"\n",
    "- Follow-up Question 2: \"Is the account with the high inflow/outflow ratio currently blocked? And what type of account is it?\"\n",
    "- Follow-up Question 3: \"Can you list all the accounts for this customer and their corresponding money flow ratios?\"\n",
    "\n",
    "#### Scenario 3: Tracing Potential Money Laundering\n",
    "This conversation uses the Spanner  `get_indirect_transfers` and `get_destination_account_audit_events` tools to trace a series of transactions.\n",
    "\n",
    "- Initial User Question: \"I suspect there might be some indirect money transfers between account 75 and account 199. Can you check if there were any transfers between them with 3 to 6 hops?\"\n",
    "- Follow-up Question 1: \"How many hops were there in the transfer? Also, can you tell me if either the source or destination account is currently blocked?\"\n",
    "- Follow-up Question 2: \"The destination account seems suspicious. Can you pull the latest audit events for the destination account, especially any related to transfers from suspicious accounts?\"\n",
    "- Follow-up Question 3: \"From the audit trail, can you identify the timestamps of the audit events and any details associated with them?\"\n",
    "\n",
    "#### Scenario 4: General Database Queries\n",
    "This conversation flow demonstrates the use of the flexible `get_finance_database_context` tool for more open-ended questions about the finance database in AlloyDB.\n",
    "\n",
    "- Initial User Question: \"How many users are in the database?\"\n",
    "- Follow-up Question 1: \"Can you give me a count of all transactions that have been flagged for fraud?\"\n",
    "- Follow-up Question 2: \"What are the different types of credit cards available to customers?\"\n",
    "- Follow-up Question 3: \"Can you list the top 5 Merchant Category Codes (MCC) by transaction volume?\"\n"
   ]
  },
  {
   "cell_type": "code",
   "execution_count": null,
   "id": "dd29c2a7-4119-4735-924b-23f9b4eb1faa",
   "metadata": {},
   "outputs": [],
   "source": []
  }
 ],
 "metadata": {
  "environment": {
   "kernel": "conda-base-py",
   "name": "workbench-notebooks.m130",
   "type": "gcloud",
   "uri": "us-docker.pkg.dev/deeplearning-platform-release/gcr.io/workbench-notebooks:m130"
  },
  "kernelspec": {
   "display_name": "Python 3 (ipykernel) (Local) (Local)",
   "language": "python",
   "name": "conda-base-py"
  },
  "language_info": {
   "codemirror_mode": {
    "name": "ipython",
    "version": 3
   },
   "file_extension": ".py",
   "mimetype": "text/x-python",
   "name": "python",
   "nbconvert_exporter": "python",
   "pygments_lexer": "ipython3",
   "version": "3.10.18"
  }
 },
 "nbformat": 4,
 "nbformat_minor": 5
}
