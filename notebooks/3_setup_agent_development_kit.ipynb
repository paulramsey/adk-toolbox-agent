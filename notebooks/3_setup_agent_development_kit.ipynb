{
 "cells": [
  {
   "cell_type": "markdown",
   "id": "321adc7f-f386-4dbf-bb9c-d5f789421f78",
   "metadata": {},
   "source": [
    "# Setup the Agent Development Kit\n",
    "\n",
    "<img src=\"img/agent_development_kit_logo.png\" align=\"left\" style=\"height: 100px;\">Agent Development Kit (ADK) is a flexible and modular framework for developing and deploying AI agents. While optimized for Gemini and the Google ecosystem, ADK is model-agnostic, deployment-agnostic, and is built for compatibility with other frameworks. ADK was designed to make agent development feel more like software development, to make it easier for developers to create, deploy, and orchestrate agentic architectures that range from simple tasks to complex workflows."
   ]
  },
  {
   "cell_type": "markdown",
   "id": "0927ae02-125e-4d3e-a885-1e437e6bddb6",
   "metadata": {},
   "source": [
    "## Basic Setup"
   ]
  },
  {
   "cell_type": "markdown",
   "id": "842a3ca3-4f62-4190-bbb6-10e7da9b13c8",
   "metadata": {},
   "source": [
    "### Define Notebook Variables\n",
    "\n",
    "Update the variables below to match your environment. You will be prompted for the AlloyDB password you chose then you provisioned the environment with Terraform."
   ]
  },
  {
   "cell_type": "code",
   "execution_count": null,
   "id": "e4fa431b-2efd-4db1-89e1-b97b4fc722df",
   "metadata": {
    "tags": []
   },
   "outputs": [],
   "source": [
    "# Project variables\n",
    "project_id = \"your-project\"\n",
    "region = \"your-region\"\n",
    "vpc = \"demo-vpc\"\n",
    "gcs_bucket_name = f\"project-files-{project_id}\"\n",
    "cloud_sql_instance = \"my-postgres-instance\""
   ]
  },
  {
   "cell_type": "code",
   "execution_count": null,
   "id": "01db8a8b-cae4-4978-bb9a-e2e5a8465696",
   "metadata": {
    "tags": []
   },
   "outputs": [],
   "source": [
    "# Set env variable to suppress annoying system warnings when running shell commands\n",
    "%env GRPC_ENABLE_FORK_SUPPORT=1"
   ]
  },
  {
   "cell_type": "markdown",
   "id": "62bc39dc-f6ee-455e-853a-643c12918c2f",
   "metadata": {},
   "source": [
    "### Connect to your Google Cloud Project"
   ]
  },
  {
   "cell_type": "code",
   "execution_count": null,
   "id": "5d972baa-ffa7-47c7-a965-fdaa114262b5",
   "metadata": {
    "tags": []
   },
   "outputs": [],
   "source": [
    "# Configure gcloud.\n",
    "!gcloud config set project {project_id}"
   ]
  },
  {
   "cell_type": "markdown",
   "id": "38a124be-854e-4465-bab2-44ea855d9256",
   "metadata": {},
   "source": [
    "### Configure Logging"
   ]
  },
  {
   "cell_type": "code",
   "execution_count": null,
   "id": "66056e25-5e3a-47e3-a842-8fe6fadd9a33",
   "metadata": {
    "tags": []
   },
   "outputs": [],
   "source": [
    "import logging\n",
    "import sys\n",
    "\n",
    "# Configure the root logger to output messages with ERROR level\n",
    "logging.basicConfig(level=logging.ERROR, stream=sys.stdout, format='%(asctime)s[%(levelname)5s][%(name)14s] - %(message)s',  datefmt='%H:%M:%S', force=True)"
   ]
  },
  {
   "cell_type": "markdown",
   "id": "b72eb606-f634-424f-be79-c1b75b1b1e14",
   "metadata": {},
   "source": [
    "### Install Dependencies"
   ]
  },
  {
   "cell_type": "code",
   "execution_count": null,
   "id": "f7c2e387-9dfc-49c2-8a32-2c54d7eebcc2",
   "metadata": {
    "tags": []
   },
   "outputs": [],
   "source": [
    "! pip install --quiet toolbox-core==0.2.1 \\\n",
    "                      google-adk==1.5.0 \\\n",
    "                      google-genai==1.23.0\n"
   ]
  },
  {
   "cell_type": "markdown",
   "id": "db5cf49a-a04d-429c-a5f3-2df8e068fc81",
   "metadata": {},
   "source": [
    "## Build an Agent with MCP Toolbox Tools"
   ]
  },
  {
   "cell_type": "markdown",
   "id": "4ebd328f-1f6c-4123-9bfc-5e40f1e207bc",
   "metadata": {},
   "source": [
    "### Get the Toolbox Endpoint"
   ]
  },
  {
   "cell_type": "code",
   "execution_count": null,
   "id": "100a6f20-9494-4da1-8fed-49744f5bce53",
   "metadata": {
    "tags": []
   },
   "outputs": [],
   "source": [
    "import json\n",
    "\n",
    "toolbox_url = ! gcloud run services describe toolbox --region {region} --format 'value(metadata.annotations.\"run.googleapis.com/urls\")'\n",
    "toolbox_url = json.loads(toolbox_url[0])[0]\n",
    "print(toolbox_url)"
   ]
  },
  {
   "cell_type": "markdown",
   "id": "a72ea11a-b888-4c4d-80a7-d8d67d70e7f3",
   "metadata": {
    "tags": []
   },
   "source": [
    "### Get Auth Token\n",
    "\n",
    "We required authenticated invocations of the Cloud Run service, so we first need to grab an auth token to use with our ToolboxClient. "
   ]
  },
  {
   "cell_type": "code",
   "execution_count": null,
   "id": "42440d62-eb7e-4dc2-a884-195b521356ff",
   "metadata": {
    "tags": []
   },
   "outputs": [],
   "source": [
    "import urllib\n",
    "\n",
    "import google.auth.transport.requests\n",
    "import google.oauth2.id_token\n",
    "\n",
    "\n",
    "def get_auth_token(endpoint):\n",
    "    # Cloud Run uses your service's hostname as the `audience` value\n",
    "    # audience = 'https://my-cloud-run-service.run.app/'\n",
    "    # For Cloud Run, `endpoint` is the URL (hostname + path) receiving the request\n",
    "    # endpoint = 'https://my-cloud-run-service.run.app/my/awesome/url'\n",
    "    \n",
    "    auth_req = google.auth.transport.requests.Request()\n",
    "    id_token = google.oauth2.id_token.fetch_id_token(auth_req, endpoint)\n",
    "\n",
    "    return id_token"
   ]
  },
  {
   "cell_type": "markdown",
   "id": "1a48eb1b-2ea9-4fde-93f7-6ece1032b567",
   "metadata": {
    "tags": []
   },
   "source": [
    "### Define Agent"
   ]
  },
  {
   "cell_type": "code",
   "execution_count": null,
   "id": "ff50e697-2dfb-46ba-a5bf-e64dff1ad467",
   "metadata": {},
   "outputs": [],
   "source": [
    "# Reference: https://googleapis.github.io/genai-toolbox/getting-started/local_quickstart/\n",
    "\n",
    "from google.adk.agents import Agent\n",
    "from google.adk.runners import Runner\n",
    "from google.adk.sessions import InMemorySessionService\n",
    "from google.adk.artifacts.in_memory_artifact_service import InMemoryArtifactService\n",
    "from google import genai\n",
    "from google.genai import types\n",
    "from toolbox_core import ToolboxSyncClient\n",
    "\n",
    "import asyncio\n",
    "import os\n",
    "\n",
    "# Use GOOGLE_API_KEY or Vertex AI\n",
    "# os.environ['GOOGLE_API_KEY'] = 'your-api-key'\n",
    "\n",
    "os.environ['GOOGLE_GENAI_USE_VERTEXAI'] = 'TRUE'\n",
    "os.environ['GOOGLE_CLOUD_PROJECT']      = project_id\n",
    "os.environ['GOOGLE_CLOUD_LOCATION']     = region\n",
    "\n",
    "# Get auth token to invoke Toolbox on Cloud Run\n",
    "auth_token = get_auth_token(toolbox_url)\n",
    "\n",
    "async def invoke_agent(query: str):\n",
    "  with ToolboxSyncClient(\n",
    "        toolbox_url,\n",
    "        client_headers={\"Authorization\": f\"Bearer {auth_token}\"}\n",
    "  ) as toolbox_client:\n",
    "\n",
    "      prompt = \"\"\"\n",
    "        You're a helpful financial assistant. You handle fraud detection tasks, transaction lookups,\n",
    "        account details, loan payments, suspicious activity reports, and other tasks related to \n",
    "        financial data. Always provide a customer_id when using tools to lookup information.\n",
    "      \"\"\"\n",
    "\n",
    "      app_name = 'finance_agent'\n",
    "    \n",
    "      user_id = '123'\n",
    "\n",
    "      root_agent = Agent(\n",
    "          model='gemini-2.5-flash',\n",
    "          name=app_name,\n",
    "          description='A helpful AI assistant.',\n",
    "          instruction=prompt,\n",
    "          tools=toolbox_client.load_toolset(\"finance-toolset\"),\n",
    "      )\n",
    "\n",
    "      session_service = InMemorySessionService()\n",
    "      artifacts_service = InMemoryArtifactService()\n",
    "      session = await session_service.create_session(\n",
    "          state={}, app_name=app_name, user_id=user_id\n",
    "      )\n",
    "      runner = Runner(\n",
    "          app_name=app_name,\n",
    "          agent=root_agent,\n",
    "          artifact_service=artifacts_service,\n",
    "          session_service=session_service,\n",
    "      )\n",
    "\n",
    "      content = types.Content(role='user', parts=[types.Part(text=query)])\n",
    "      events = runner.run(session_id=session.id,\n",
    "                          user_id=user_id, new_message=content)\n",
    "\n",
    "      responses = (\n",
    "        part.text\n",
    "        for event in events\n",
    "        for part in event.content.parts\n",
    "        if part.text is not None\n",
    "      )\n",
    "\n",
    "      for text in responses:\n",
    "        print(text)\n"
   ]
  },
  {
   "cell_type": "markdown",
   "id": "4892e166-1953-4f6f-872a-a9cd6d85e787",
   "metadata": {},
   "source": [
    "### Manually Invoke the Agent"
   ]
  },
  {
   "cell_type": "code",
   "execution_count": null,
   "id": "fae5a659-d9cb-4d2e-89fe-1f23e993261d",
   "metadata": {
    "tags": []
   },
   "outputs": [],
   "source": [
    "prompts = [\n",
    "    \"What are the latest trasactions for customer_id 11?\",\n",
    "    \"Tell me about the recent account transfers made by customer_id 8 and flag any suspicious activity.\",\n",
    "    \"Is anything strange about the latest tranactions made by customer_id 3?\",\n",
    "]\n",
    "\n",
    "for p in prompts:\n",
    "    print(f\"User prompt: {p}\\n\")\n",
    "    print(\"Agent response:\")\n",
    "    response = await invoke_agent(p)\n",
    "    print(\"\\n\\n\")\n",
    "    "
   ]
  },
  {
   "cell_type": "markdown",
   "id": "d926bb0f-da94-4b76-9205-38c9640f2635",
   "metadata": {},
   "source": [
    "## Inspect Agent Processing\n",
    "\n",
    "The examples above show that the Agent has access to our databases via MCP Toolbox, because the output contains data the Agent wouldn't otherwise know. But what if we want to debug an Agent's logic or understand the specific tool calls that were made? When developing locally, we can set the log level to info to see detailed, step-by-step Agent execution and tool call details. "
   ]
  },
  {
   "cell_type": "markdown",
   "id": "142bc4bd-6ffc-45ee-a649-e6069984835c",
   "metadata": {},
   "source": [
    "### Set log level to INFO"
   ]
  },
  {
   "cell_type": "code",
   "execution_count": null,
   "id": "ce4f46b5-35c0-4d47-9d5a-8774aedb234b",
   "metadata": {
    "tags": []
   },
   "outputs": [],
   "source": [
    "import logging\n",
    "import sys\n",
    "\n",
    "# Configure the root logger to output messages with INFO level or above\n",
    "logging.basicConfig(level=logging.INFO, stream=sys.stdout, format='%(asctime)s[%(levelname)5s][%(name)14s] - %(message)s',  datefmt='%H:%M:%S', force=True)"
   ]
  },
  {
   "cell_type": "markdown",
   "id": "27d15117-2083-4f1d-8a92-3fbf9095766f",
   "metadata": {},
   "source": [
    "### Examine Detailed Output"
   ]
  },
  {
   "cell_type": "code",
   "execution_count": null,
   "id": "c057993a-e8c6-43e4-99ba-7f2b8b30066b",
   "metadata": {
    "tags": []
   },
   "outputs": [],
   "source": [
    "prompt = \"How many transfers has customer_id 462 made recently? Is there anything strange about the transfers?\"\n",
    "await invoke_agent(prompt)"
   ]
  },
  {
   "cell_type": "markdown",
   "id": "eeab9dd3-117d-4405-8726-9b5692754f47",
   "metadata": {},
   "source": [
    "## Deploy the ADK Agent to Cloud Run\n",
    "\n",
    "Now we will deploy the ADK agent to Cloud Run. The deployment process will use a `Dockerfile` to containerize the application and configure it to connect to the Cloud SQL instance for session management. We will also enable Cloud Logging and Cloud Trace for observability.\n",
    "\n",
    "References:\n",
    "- https://github.com/alphinside/deploy-and-manage-adk-service/tree/main/weather_agent\n",
    "- https://codelabs.developers.google.com/deploy-manage-observe-adk-cloud-run#1"
   ]
  },
  {
   "cell_type": "markdown",
   "id": "8285d802-aa9c-4854-a658-66674599771e",
   "metadata": {},
   "source": [
    "### Persist Session State in Cloud SQL\n",
    "\n",
    "The Agent Development Kit (ADK) uses a Session Service to maintain the state of conversations. By default, it uses an in-memory session service, but this is not suitable for production environments where the server may restart, and sessions would be lost. To ensure persistence, we can connect the ADK to a Cloud SQL database to act as the persistent store for the Session service."
   ]
  },
  {
   "cell_type": "code",
   "execution_count": null,
   "id": "7928c34c-00c7-4546-8845-ecc858fb5a8c",
   "metadata": {
    "tags": []
   },
   "outputs": [],
   "source": [
    "# Get Cloud SQL connection name\n",
    "cloud_sql_connection_name = !gcloud sql instances describe {cloud_sql_instance} --format=\"value(connectionName)\"\n",
    "cloud_sql_connection_name = cloud_sql_connection_name[0]\n",
    "\n",
    "# Construct the SESSION_SERVICE_URI\n",
    "session_service_uri = f\"postgresql+pg8000://postgres:YOUR_PASSWORD@/postgres?unix_sock=/cloudsql/{cloud_sql_connection_name}/.s.PGSQL.5432\"\n",
    "print(f\"SESSION_SERVICE_URI: {session_service_uri}\")\n"
   ]
  },
  {
   "cell_type": "markdown",
   "id": "084fabf9-6dcf-4aed-8e92-c7dae6bf6411",
   "metadata": {},
   "source": [
    "### Create `__init__.py`"
   ]
  },
  {
   "cell_type": "code",
   "execution_count": null,
   "id": "f2427aca-d9c5-45d1-b58c-5a699db88fc3",
   "metadata": {
    "tags": []
   },
   "outputs": [],
   "source": [
    "# Initialize the agent directory\n",
    "! mkdir -p deploy\n",
    "! mkdir -p deploy/finance_agent"
   ]
  },
  {
   "cell_type": "code",
   "execution_count": null,
   "id": "2391e43e-8ada-4a8c-bbd5-95a6f04432d2",
   "metadata": {
    "tags": []
   },
   "outputs": [],
   "source": [
    "%%writefile deploy/finance_agent/__init__.py\n",
    "# __init__.py\n",
    "\n",
    "from finance_agent.agent import root_agent\n",
    "\n",
    "__all__ = [\"root_agent\"]"
   ]
  },
  {
   "cell_type": "markdown",
   "id": "64359e5b-f758-429f-8ebf-b3310ca9ffb6",
   "metadata": {},
   "source": [
    "### Create `agent.py`"
   ]
  },
  {
   "cell_type": "code",
   "execution_count": null,
   "id": "e32a6a7f-9c89-4940-8904-8f12679249ea",
   "metadata": {
    "tags": []
   },
   "outputs": [],
   "source": [
    "%%writefile deploy/finance_agent/agent.py\n",
    "import os\n",
    "import google.auth\n",
    "import google.auth.transport.requests\n",
    "import google.oauth2.id_token\n",
    "from google.adk.agents import Agent\n",
    "from toolbox_core import ToolboxSyncClient\n",
    "\n",
    "# --- Environment and Authentication ---\n",
    "\n",
    "# It's best practice to set these in the Cloud Run service's environment variables\n",
    "# instead of hardcoding them in the script.\n",
    "# os.environ['GOOGLE_GENAI_USE_VERTEXAI'] = 'TRUE'\n",
    "# os.environ['GOOGLE_CLOUD_PROJECT']      = 'your-project-id'\n",
    "# os.environ['GOOGLE_CLOUD_LOCATION']     = 'your-region'\n",
    "\n",
    "def get_auth_token(endpoint: str) -> str:\n",
    "    \"\"\"Fetches an OIDC token for authenticating with a Cloud Run service.\"\"\"\n",
    "    auth_req = google.auth.transport.requests.Request()\n",
    "    return google.oauth2.id_token.fetch_id_token(auth_req, endpoint)\n",
    "\n",
    "# The URL for the toolbox service should be passed as an environment variable\n",
    "# for better flexibility between different environments (dev, prod).\n",
    "TOOLBOX_URL = os.getenv(\"TOOLBOX_URL\")\n",
    "if not TOOLBOX_URL:\n",
    "    raise ValueError(\"TOOLBOX_URL environment variable not set.\")\n",
    "\n",
    "# Get an auth token to invoke the Toolbox on Cloud Run\n",
    "auth_token = get_auth_token(TOOLBOX_URL)\n",
    "\n",
    "# --- Agent Definition ---\n",
    "\n",
    "# Initialize the Toolbox client once and reuse it\n",
    "toolbox_client = ToolboxSyncClient(\n",
    "    TOOLBOX_URL,\n",
    "    client_headers={\"Authorization\": f\"Bearer {auth_token}\"}\n",
    ")\n",
    "\n",
    "# Define the agent's instructions\n",
    "prompt = \"\"\"\n",
    "You're a helpful financial assistant. You handle fraud detection tasks, transaction lookups,\n",
    "account details, loan payments, suspicious activity reports, and other tasks related to\n",
    "financial data. Always provide a customer_id when using tools to lookup information.\n",
    "\"\"\"\n",
    "\n",
    "# Define the root agent\n",
    "root_agent = Agent(\n",
    "    model='gemini-2.5-flash',\n",
    "    name='finance_agent',\n",
    "    description='A helpful AI assistant for financial tasks.',\n",
    "    instruction=prompt,\n",
    "    # Load the tools from your MCP Toolbox\n",
    "    tools=toolbox_client.load_toolset(\"finance-toolset\"),\n",
    ")"
   ]
  },
  {
   "cell_type": "markdown",
   "id": "d277e6c9-3391-4809-b781-1e4fed160d03",
   "metadata": {},
   "source": [
    "### Create `server.py`"
   ]
  },
  {
   "cell_type": "code",
   "execution_count": null,
   "id": "338ffbc8-ba7c-44d4-805d-4877be60eadb",
   "metadata": {
    "tags": []
   },
   "outputs": [],
   "source": [
    "%%writefile deploy/server.py\n",
    "import os\n",
    "from fastapi import FastAPI\n",
    "from google.adk.cli.fast_api import get_fast_api_app\n",
    "from google.cloud import logging as google_cloud_logging\n",
    "from opentelemetry import trace\n",
    "from opentelemetry.sdk.trace import TracerProvider, export\n",
    "from tracing import CloudTraceLoggingSpanExporter # Assumes you have a tracing.py file in the root directory\n",
    "\n",
    "# --- Server Setup ---\n",
    "\n",
    "# Initialize the Google Cloud Logging client\n",
    "logging_client = google_cloud_logging.Client()\n",
    "logger = logging_client.logger(__name__)\n",
    "\n",
    "# The directory where your agent.py and __init__.py are located\n",
    "AGENT_DIR = os.path.dirname(os.path.abspath(__file__))\n",
    "\n",
    "# Get the session service URI from environment variables.\n",
    "# This is where you'll provide the connection string for Cloud SQL.\n",
    "session_uri = os.getenv(\"SESSION_SERVICE_URI\")\n",
    "\n",
    "# Prepare arguments for the FastAPI app\n",
    "app_args = {\"agents_dir\": AGENT_DIR, \"web\": True}\n",
    "\n",
    "# Use the Cloud SQL session service if the URI is provided\n",
    "if session_uri:\n",
    "    app_args[\"session_service_uri\"] = session_uri\n",
    "    logger.log_text(f\"Using database session service.\", severity=\"INFO\")\n",
    "else:\n",
    "    logger.log_text(\n",
    "        \"SESSION_SERVICE_URI not provided. Using in-memory session service. \"\n",
    "        \"Sessions will be lost on server restart.\",\n",
    "        severity=\"WARNING\",\n",
    "    )\n",
    "\n",
    "# --- Observability: Tracing ---\n",
    "# Enable Cloud Trace\n",
    "\n",
    "provider = TracerProvider()\n",
    "# The CloudTraceLoggingSpanExporter is a custom exporter defined in tracing.py\n",
    "# to handle trace data limits. Make sure you have the 'tracing.py' file.\n",
    "processor = export.BatchSpanProcessor(CloudTraceLoggingSpanExporter())\n",
    "provider.add_span_processor(processor)\n",
    "trace.set_tracer_provider(provider)\n",
    "\n",
    "\n",
    "# --- Create and Configure the FastAPI App ---\n",
    "\n",
    "# Create the FastAPI app using the ADK utility\n",
    "app: FastAPI = get_fast_api_app(**app_args)\n",
    "\n",
    "app.title = \"finance-agent\"\n",
    "app.description = \"API for interacting with the ADK Finance Agent\"\n",
    "\n",
    "# The ADK's get_fast_api_app automatically creates the necessary\n",
    "# endpoints like /run_sse for you to interact with the agent.\n",
    "# You can add custom endpoints here if needed."
   ]
  },
  {
   "cell_type": "markdown",
   "id": "4e348c94-f03d-43d8-81be-5390aa5ddc12",
   "metadata": {},
   "source": [
    "### Create `tracing.py`"
   ]
  },
  {
   "cell_type": "code",
   "execution_count": null,
   "id": "cfa48a0a-1d53-4a6e-a669-e61e8cb2617f",
   "metadata": {
    "tags": []
   },
   "outputs": [],
   "source": [
    "%%writefile deploy/tracing.py\n",
    "# Copyright 2025 Google LLC\n",
    "#\n",
    "# Licensed under the Apache License, Version 2.0 (the \"License\");\n",
    "# you may not use this file except in compliance with the License.\n",
    "# You may obtain a copy of the License at\n",
    "#\n",
    "#     http://www.apache.org/licenses/LICENSE-2.0\n",
    "#\n",
    "# Unless required by applicable law or agreed to in writing, software\n",
    "# distributed under the License is distributed on an \"AS IS\" BASIS,\n",
    "# WITHOUT WARRANTIES OR CONDITIONS OF ANY KIND, either express or implied.\n",
    "# See the License for the specific language governing permissions and\n",
    "# limitations under the License.\n",
    "\n",
    "import json\n",
    "import logging\n",
    "from collections.abc import Sequence\n",
    "from typing import Any\n",
    "\n",
    "import google.cloud.storage as storage\n",
    "from google.cloud import logging as google_cloud_logging\n",
    "from opentelemetry.exporter.cloud_trace import CloudTraceSpanExporter\n",
    "from opentelemetry.sdk.trace import ReadableSpan\n",
    "from opentelemetry.sdk.trace.export import SpanExportResult\n",
    "\n",
    "\n",
    "class CloudTraceLoggingSpanExporter(CloudTraceSpanExporter):\n",
    "    \"\"\"\n",
    "    An extended version of CloudTraceSpanExporter that logs span data to Google Cloud Logging\n",
    "    and handles large attribute values by storing them in Google Cloud Storage.\n",
    "\n",
    "    This class helps bypass the 256 character limit of Cloud Trace for attribute values\n",
    "    by leveraging Cloud Logging (which has a 256KB limit) and Cloud Storage for larger payloads.\n",
    "    \"\"\"\n",
    "\n",
    "    def __init__(\n",
    "        self,\n",
    "        logging_client: google_cloud_logging.Client | None = None,\n",
    "        storage_client: storage.Client | None = None,\n",
    "        bucket_name: str | None = None,\n",
    "        debug: bool = False,\n",
    "        **kwargs: Any,\n",
    "    ) -> None:\n",
    "        \"\"\"\n",
    "        Initialize the exporter with Google Cloud clients and configuration.\n",
    "\n",
    "        :param logging_client: Google Cloud Logging client\n",
    "        :param storage_client: Google Cloud Storage client\n",
    "        :param bucket_name: Name of the GCS bucket to store large payloads\n",
    "        :param debug: Enable debug mode for additional logging\n",
    "        :param kwargs: Additional arguments to pass to the parent class\n",
    "        \"\"\"\n",
    "        super().__init__(**kwargs)\n",
    "        self.debug = debug\n",
    "        self.logging_client = logging_client or google_cloud_logging.Client(\n",
    "            project=self.project_id\n",
    "        )\n",
    "        self.logger = self.logging_client.logger(__name__)\n",
    "        self.storage_client = storage_client or storage.Client(project=self.project_id)\n",
    "        self.bucket_name = bucket_name or f\"{self.project_id}-weather-agent-logs-data\"\n",
    "        self.bucket = self.storage_client.bucket(self.bucket_name)\n",
    "\n",
    "    def export(self, spans: Sequence[ReadableSpan]) -> SpanExportResult:\n",
    "        \"\"\"\n",
    "        Export the spans to Google Cloud Logging and Cloud Trace.\n",
    "\n",
    "        :param spans: A sequence of spans to export\n",
    "        :return: The result of the export operation\n",
    "        \"\"\"\n",
    "        for span in spans:\n",
    "            span_context = span.get_span_context()\n",
    "            trace_id = format(span_context.trace_id, \"x\")\n",
    "            span_id = format(span_context.span_id, \"x\")\n",
    "            span_dict = json.loads(span.to_json())\n",
    "\n",
    "            span_dict[\"trace\"] = f\"projects/{self.project_id}/traces/{trace_id}\"\n",
    "            span_dict[\"span_id\"] = span_id\n",
    "\n",
    "            span_dict = self._process_large_attributes(\n",
    "                span_dict=span_dict, span_id=span_id\n",
    "            )\n",
    "\n",
    "            if self.debug:\n",
    "                print(span_dict)\n",
    "\n",
    "            # Log the span data to Google Cloud Logging\n",
    "            self.logger.log_struct(\n",
    "                span_dict,\n",
    "                labels={\n",
    "                    \"type\": \"agent_telemetry\",\n",
    "                    \"service_name\": \"weather-agent\",\n",
    "                },\n",
    "                severity=\"INFO\",\n",
    "            )\n",
    "        # Export spans to Google Cloud Trace using the parent class method\n",
    "        return super().export(spans)\n",
    "\n",
    "    def store_in_gcs(self, content: str, span_id: str) -> str:\n",
    "        \"\"\"\n",
    "        Initiate storing large content in Google Cloud Storage/\n",
    "\n",
    "        :param content: The content to store\n",
    "        :param span_id: The ID of the span\n",
    "        :return: The  GCS URI of the stored content\n",
    "        \"\"\"\n",
    "        if not self.storage_client.bucket(self.bucket_name).exists():\n",
    "            logging.warning(\n",
    "                f\"Bucket {self.bucket_name} not found. \"\n",
    "                \"Unable to store span attributes in GCS.\"\n",
    "            )\n",
    "            return \"GCS bucket not found\"\n",
    "\n",
    "        blob_name = f\"spans/{span_id}.json\"\n",
    "        blob = self.bucket.blob(blob_name)\n",
    "\n",
    "        blob.upload_from_string(content, \"application/json\")\n",
    "        return f\"gs://{self.bucket_name}/{blob_name}\"\n",
    "\n",
    "    def _process_large_attributes(self, span_dict: dict, span_id: str) -> dict:\n",
    "        \"\"\"\n",
    "        Process large attribute values by storing them in GCS if they exceed the size\n",
    "        limit of Google Cloud Logging.\n",
    "\n",
    "        :param span_dict: The span data dictionary\n",
    "        :param trace_id: The trace ID\n",
    "        :param span_id: The span ID\n",
    "        :return: The updated span dictionary\n",
    "        \"\"\"\n",
    "        attributes = span_dict[\"attributes\"]\n",
    "        if len(json.dumps(attributes).encode()) > 255 * 1024:  # 250 KB\n",
    "            # Separate large payload from other attributes\n",
    "            attributes_payload = dict(attributes.items())\n",
    "            attributes_retain = dict(attributes.items())\n",
    "\n",
    "            # Store large payload in GCS\n",
    "            gcs_uri = self.store_in_gcs(json.dumps(attributes_payload), span_id)\n",
    "            attributes_retain[\"uri_payload\"] = gcs_uri\n",
    "            attributes_retain[\"url_payload\"] = (\n",
    "                f\"https://storage.mtls.cloud.google.com/\"\n",
    "                f\"{self.bucket_name}/spans/{span_id}.json\"\n",
    "            )\n",
    "\n",
    "            span_dict[\"attributes\"] = attributes_retain\n",
    "            logging.info(\n",
    "                \"Length of payload span above 250 KB, storing attributes in GCS \"\n",
    "                \"to avoid large log entry errors\"\n",
    "            )\n",
    "\n",
    "        return span_dict"
   ]
  },
  {
   "cell_type": "markdown",
   "id": "496c4dc8-726c-4b10-aa49-924685b81a54",
   "metadata": {},
   "source": [
    "### Create `pyproject.toml`"
   ]
  },
  {
   "cell_type": "code",
   "execution_count": null,
   "id": "9c83f980-53ae-4e03-aef5-64742f47e60a",
   "metadata": {
    "tags": []
   },
   "outputs": [],
   "source": [
    "%%writefile deploy/pyproject.toml\n",
    "[project]\n",
    "name = \"deploy-and-manage-adk-service\"\n",
    "version = \"0.1.0\"\n",
    "description = \"Add your description here\"\n",
    "readme = \"README.md\"\n",
    "requires-python = \">=3.12\"\n",
    "dependencies = [\n",
    "    \"google-adk==1.3.0\",\n",
    "    \"locust==2.37.10\",\n",
    "    \"pg8000==1.31.2\",\n",
    "    \"python-dotenv==1.1.0\",\n",
    "]\n",
    "\n",
    "[dependency-groups]\n",
    "dev = [\n",
    "    \"pytest==8.4.0\",\n",
    "    \"ruff==0.11.13\",\n",
    "]"
   ]
  },
  {
   "cell_type": "markdown",
   "id": "d98391e7-99e5-48ec-b6f2-ce95f7bd5810",
   "metadata": {
    "tags": []
   },
   "source": [
    "### Create a Dockerfile"
   ]
  },
  {
   "cell_type": "code",
   "execution_count": null,
   "id": "8ad8a019-bd41-46b1-aa45-b56e9d54c0a7",
   "metadata": {
    "tags": []
   },
   "outputs": [],
   "source": [
    "%%writefile deploy/Dockerfile\n",
    "FROM python:3.12-slim\n",
    "RUN pip install --no-cache-dir uv==0.7.13\n",
    "WORKDIR /app\n",
    "COPY . .\n",
    "RUN uv sync\n",
    "EXPOSE 8080\n",
    "CMD [\"uv\", \"run\", \"uvicorn\", \"server:app\", \"--host\", \"0.0.0.0\", \"--port\", \"8080\"]\n"
   ]
  },
  {
   "cell_type": "markdown",
   "id": "a6c0a98f-a6ac-4447-bac7-12c988c8f4cc",
   "metadata": {},
   "source": [
    "### Deploy the Agent to Cloud Run"
   ]
  },
  {
   "cell_type": "code",
   "execution_count": null,
   "id": "10869547-4e84-4c9e-b9e0-46ac86b0cf9b",
   "metadata": {
    "tags": []
   },
   "outputs": [],
   "source": [
    "!gcloud run deploy finance-agent --quiet --no-user-output-enabled \\\n",
    "    --source ./deploy/ \\\n",
    "    --network={vpc} \\\n",
    "    --subnet={vpc} \\\n",
    "    --ingress=internal \\\n",
    "    --port 8080 \\\n",
    "    --project {project_id} \\\n",
    "    --region {region} \\\n",
    "    --no-allow-unauthenticated \\\n",
    "    --add-cloudsql-instances={cloud_sql_connection_name} \\\n",
    "    --update-env-vars=TOOLBOX_URL={toolbox_url},GOOGLE_GENAI_USE_VERTEXAI=True,SESSION_SERVICE_URI={session_service_uri}"
   ]
  },
  {
   "cell_type": "markdown",
   "id": "5357ffa7-ab96-4f71-bec8-e017fb6cd017",
   "metadata": {},
   "source": [
    "### Invoke the Cloud Run Agent"
   ]
  },
  {
   "cell_type": "code",
   "execution_count": null,
   "id": "a99db656-47cc-44e4-a75e-08e00013cd91",
   "metadata": {},
   "outputs": [],
   "source": [
    "import requests\n",
    "import json\n",
    "import uuid\n",
    "from google.colab import auth\n",
    "import google.auth.transport.requests\n",
    "import google.oauth2.id_token\n",
    "\n",
    "# --- Get Service URL and Auth Token ---\n",
    "\n",
    "# Get the URL of your deployed Cloud Run service\n",
    "service_url = !gcloud run services describe finance-agent --region {region} --format 'value(status.url)'\n",
    "service_url = service_url[0]\n",
    "\n",
    "# Get an OIDC token to authenticate with the Cloud Run service\n",
    "auth.authenticate_user()\n",
    "auth_req = google.auth.transport.requests.Request()\n",
    "id_token = google.oauth2.id_token.fetch_id_token(auth_req, service_url)\n",
    "\n",
    "# --- Prepare and Send the Request ---\n",
    "\n",
    "invoke_url = f\"{service_url}/run_sse\"\n",
    "headers = {\n",
    "    \"Authorization\": f\"Bearer {id_token}\",\n",
    "    \"Content-Type\": \"application/json\",\n",
    "    \"Accept\": \"text/event-stream\"\n",
    "}\n",
    "\n",
    "# Each conversation needs a unique session ID\n",
    "session_id = str(uuid.uuid4())\n",
    "\n",
    "# The data payload for the agent\n",
    "data = {\n",
    "    \"new_message\": {\n",
    "        \"content\": {\n",
    "            \"parts\": [{\"text\": \"What are the latest transactions for customer_id 11?\"}]\n",
    "        }\n",
    "    },\n",
    "    \"session_id\": session_id,\n",
    "    \"user_id\": \"test-user-123\"\n",
    "}\n",
    "\n",
    "# Send the request and process the streaming response\n",
    "with requests.post(invoke_url, headers=headers, json=data, stream=True) as response:\n",
    "    if response.status_code == 200:\n",
    "        print(\"Agent Response:\")\n",
    "        for line in response.iter_lines():\n",
    "            if line:\n",
    "                decoded_line = line.decode('utf-8')\n",
    "                # SSE messages are prefixed with 'data: '\n",
    "                if decoded_line.startswith('data: '):\n",
    "                    try:\n",
    "                        # Extract the JSON part of the message\n",
    "                        json_data = json.loads(decoded_line[6:])\n",
    "                        if 'content' in json_data and 'parts' in json_data['content']:\n",
    "                            text = json_data['content']['parts'][0].get('text', '')\n",
    "                            print(text, end='', flush=True)\n",
    "                    except json.JSONDecodeError:\n",
    "                        pass # Ignore lines that aren't valid JSON\n",
    "        print(\"\\n\")\n",
    "    else:\n",
    "        print(f\"Error: {response.status_code}\")\n",
    "        print(response.text)"
   ]
  }
 ],
 "metadata": {
  "environment": {
   "kernel": "conda-base-py",
   "name": "workbench-notebooks.m130",
   "type": "gcloud",
   "uri": "us-docker.pkg.dev/deeplearning-platform-release/gcr.io/workbench-notebooks:m130"
  },
  "kernelspec": {
   "display_name": "Python 3 (ipykernel) (Local)",
   "language": "python",
   "name": "conda-base-py"
  },
  "language_info": {
   "codemirror_mode": {
    "name": "ipython",
    "version": 3
   },
   "file_extension": ".py",
   "mimetype": "text/x-python",
   "name": "python",
   "nbconvert_exporter": "python",
   "pygments_lexer": "ipython3",
   "version": "3.10.18"
  }
 },
 "nbformat": 4,
 "nbformat_minor": 5
}
